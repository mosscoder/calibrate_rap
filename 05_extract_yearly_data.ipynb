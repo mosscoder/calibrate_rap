{
 "cells": [
  {
   "cell_type": "code",
   "execution_count": 3,
   "metadata": {},
   "outputs": [],
   "source": [
    "import pandas as pd\n",
    "import geopandas as gpd\n",
    "import numpy as np\n",
    "import matplotlib\n",
    "import matplotlib.pyplot as plt\n",
    "import rasterio\n",
    "from shapely.geometry import Point"
   ]
  },
  {
   "cell_type": "code",
   "execution_count": 23,
   "metadata": {},
   "outputs": [],
   "source": [
    "years = [2008, 2009, 2012, 2016, 2019, 2020]\n",
    "rap_codes = ['AFG', 'BGR', 'LTR', 'PFG', 'SHR', 'TRE']\n",
    "metrics = ['cover_1-to-2m', 'cover_2-to-5m', 'cover_5m-plus']\n",
    "terrain_features = ['elevation',\n",
    "                   'hli',\n",
    "                   'slope', \n",
    "                   'tpi_30',\n",
    "                   'tpi_60',\n",
    "                   'tpi_120',\n",
    "                   'tpi_240',\n",
    "                   'tpi_480',\n",
    "                   'tpi_960',\n",
    "                   'tpi_1920',\n",
    "                   'twi']\n",
    "\n",
    "lidar_bounds_path = 'data/vector/yearly_fold_assignments/{YEAR}.geojson'\n",
    "metrics_path = 'data/raster/lidar_processed/canopy_metrics/{METRIC}/{YEAR}.tif'\n",
    "terrain_path = 'data/raster/terrain/{FEATURE}.tif'\n",
    "rap_path = 'data/raster/rap/{YEAR}.tif'"
   ]
  },
  {
   "cell_type": "code",
   "execution_count": 24,
   "metadata": {},
   "outputs": [],
   "source": [
    "def make_grid(geojson_path):\n",
    "    # Load the geojson as a geodataframe\n",
    "    gdf = gpd.read_file(geojson_path)\n",
    "    \n",
    "    # Get bounds of the geodataframe\n",
    "    minx, miny, maxx, maxy = gdf.total_bounds\n",
    "    \n",
    "    # Create grid points with 30m spacing\n",
    "    x_coords = np.arange(minx, maxx, 30)\n",
    "    y_coords = np.arange(miny, maxy, 30)\n",
    "    \n",
    "    # Create a mesh grid of points\n",
    "    xx, yy = np.meshgrid(x_coords, y_coords)\n",
    "    \n",
    "    # Create points from the mesh grid\n",
    "    points = gpd.GeoDataFrame(\n",
    "        geometry=[Point(x, y) for x, y in zip(xx.flatten(), yy.flatten())],\n",
    "        crs=gdf.crs\n",
    "    )\n",
    "    \n",
    "    # Filter to only points within the polygons\n",
    "    points_within = points[points.geometry.within(gdf.unary_union)]\n",
    "    \n",
    "    # Extract x and y coordinates of filtered points\n",
    "    x_coords = points_within.geometry.x.values\n",
    "    y_coords = points_within.geometry.y.values\n",
    "    \n",
    "    return x_coords, y_coords\n",
    "\n",
    "def calc_lag_years(init_year):\n",
    "    lag_0 = int(init_year)\n",
    "    lag_1 = lag_0 - 1\n",
    "    lag_2 = lag_1 - 1\n",
    "    return [str(lag_0), str(lag_1), str(lag_2)]\n",
    "\n"
   ]
  },
  {
   "cell_type": "code",
   "execution_count": 25,
   "metadata": {},
   "outputs": [
    {
     "name": "stderr",
     "output_type": "stream",
     "text": [
      "/var/folders/vp/1c12nhtx09ng562vszvlczthvwd07y/T/ipykernel_89108/1045541822.py:22: DeprecationWarning: The 'unary_union' attribute is deprecated, use the 'union_all()' method instead.\n",
      "  points_within = points[points.geometry.within(gdf.unary_union)]\n"
     ]
    },
    {
     "name": "stdout",
     "output_type": "stream",
     "text": [
      "['2008', '2007', '2006']\n"
     ]
    },
    {
     "name": "stderr",
     "output_type": "stream",
     "text": [
      "/var/folders/vp/1c12nhtx09ng562vszvlczthvwd07y/T/ipykernel_89108/1045541822.py:22: DeprecationWarning: The 'unary_union' attribute is deprecated, use the 'union_all()' method instead.\n",
      "  points_within = points[points.geometry.within(gdf.unary_union)]\n"
     ]
    },
    {
     "name": "stdout",
     "output_type": "stream",
     "text": [
      "['2009', '2008', '2007']\n"
     ]
    },
    {
     "name": "stderr",
     "output_type": "stream",
     "text": [
      "/var/folders/vp/1c12nhtx09ng562vszvlczthvwd07y/T/ipykernel_89108/1045541822.py:22: DeprecationWarning: The 'unary_union' attribute is deprecated, use the 'union_all()' method instead.\n",
      "  points_within = points[points.geometry.within(gdf.unary_union)]\n"
     ]
    },
    {
     "name": "stdout",
     "output_type": "stream",
     "text": [
      "['2012', '2011', '2010']\n"
     ]
    },
    {
     "name": "stderr",
     "output_type": "stream",
     "text": [
      "/var/folders/vp/1c12nhtx09ng562vszvlczthvwd07y/T/ipykernel_89108/1045541822.py:22: DeprecationWarning: The 'unary_union' attribute is deprecated, use the 'union_all()' method instead.\n",
      "  points_within = points[points.geometry.within(gdf.unary_union)]\n"
     ]
    },
    {
     "name": "stdout",
     "output_type": "stream",
     "text": [
      "['2016', '2015', '2014']\n"
     ]
    },
    {
     "name": "stderr",
     "output_type": "stream",
     "text": [
      "/var/folders/vp/1c12nhtx09ng562vszvlczthvwd07y/T/ipykernel_89108/1045541822.py:22: DeprecationWarning: The 'unary_union' attribute is deprecated, use the 'union_all()' method instead.\n",
      "  points_within = points[points.geometry.within(gdf.unary_union)]\n"
     ]
    },
    {
     "name": "stdout",
     "output_type": "stream",
     "text": [
      "['2019', '2018', '2017']\n"
     ]
    },
    {
     "name": "stderr",
     "output_type": "stream",
     "text": [
      "/var/folders/vp/1c12nhtx09ng562vszvlczthvwd07y/T/ipykernel_89108/1045541822.py:22: DeprecationWarning: The 'unary_union' attribute is deprecated, use the 'union_all()' method instead.\n",
      "  points_within = points[points.geometry.within(gdf.unary_union)]\n"
     ]
    },
    {
     "name": "stdout",
     "output_type": "stream",
     "text": [
      "['2020', '2019', '2018']\n"
     ]
    }
   ],
   "source": [
    "dfs = []\n",
    "\n",
    "for yr in years:\n",
    "    # Get grid coordinates first\n",
    "    xs, ys = make_grid(lidar_bounds_path.format(YEAR=yr))\n",
    "    \n",
    "    rap_lag_years = calc_lag_years(yr)\n",
    "    print(rap_lag_years)\n",
    "\n",
    "    # Initialize df with all columns as lists of the same length\n",
    "    df = {\n",
    "        'year': [yr] * len(xs),\n",
    "        'x': xs,\n",
    "        'y': ys\n",
    "    }\n",
    "\n",
    "    for yr_idx, rap_yr in enumerate(rap_lag_years):\n",
    "        raster = rasterio.open(rap_path.format(YEAR=rap_yr))\n",
    "        # Read all bands at once for the sampled points\n",
    "        values = list(raster.sample(list(zip(xs, ys))))\n",
    "        \n",
    "        # Efficiently assign all bands to dataframe\n",
    "        for feat_idx, feat in enumerate(rap_codes):\n",
    "            feat_name = f'lag_{yr_idx}_{feat}'\n",
    "            df[feat_name] = [val[feat_idx] for val in values]\n",
    "\n",
    "    # Add each canopy metric as a new column in the dictionary\n",
    "    for metric in metrics:\n",
    "        raster = rasterio.open(metrics_path.format(METRIC=metric, YEAR=yr))\n",
    "        values = [val[0] for val in raster.sample(list(zip(xs, ys)))]\n",
    "        df[metric] = values\n",
    "    \n",
    "    for feature in terrain_features:\n",
    "        raster = rasterio.open(terrain_path.format(FEATURE=feature))\n",
    "        values = [val[0] for val in raster.sample(list(zip(xs, ys)))]\n",
    "        df[feature] = values\n",
    "    \n",
    "    # Convert dictionary to dataframe and append to list\n",
    "    dfs.append(pd.DataFrame(df))\n",
    "\n",
    "\n",
    "data = pd.concat(dfs)\n"
   ]
  },
  {
   "cell_type": "code",
   "execution_count": 26,
   "metadata": {},
   "outputs": [
    {
     "data": {
      "text/html": [
       "<div>\n",
       "<style scoped>\n",
       "    .dataframe tbody tr th:only-of-type {\n",
       "        vertical-align: middle;\n",
       "    }\n",
       "\n",
       "    .dataframe tbody tr th {\n",
       "        vertical-align: top;\n",
       "    }\n",
       "\n",
       "    .dataframe thead th {\n",
       "        text-align: right;\n",
       "    }\n",
       "</style>\n",
       "<table border=\"1\" class=\"dataframe\">\n",
       "  <thead>\n",
       "    <tr style=\"text-align: right;\">\n",
       "      <th></th>\n",
       "      <th>year</th>\n",
       "      <th>x</th>\n",
       "      <th>y</th>\n",
       "      <th>lag_0_AFG</th>\n",
       "      <th>lag_0_BGR</th>\n",
       "      <th>lag_0_LTR</th>\n",
       "      <th>lag_0_PFG</th>\n",
       "      <th>lag_0_SHR</th>\n",
       "      <th>lag_0_TRE</th>\n",
       "      <th>lag_1_AFG</th>\n",
       "      <th>...</th>\n",
       "      <th>hli</th>\n",
       "      <th>slope</th>\n",
       "      <th>tpi_30</th>\n",
       "      <th>tpi_60</th>\n",
       "      <th>tpi_120</th>\n",
       "      <th>tpi_240</th>\n",
       "      <th>tpi_480</th>\n",
       "      <th>tpi_960</th>\n",
       "      <th>tpi_1920</th>\n",
       "      <th>twi</th>\n",
       "    </tr>\n",
       "  </thead>\n",
       "  <tbody>\n",
       "    <tr>\n",
       "      <th>0</th>\n",
       "      <td>2008</td>\n",
       "      <td>258837.689635</td>\n",
       "      <td>259828.732219</td>\n",
       "      <td>11</td>\n",
       "      <td>3</td>\n",
       "      <td>15</td>\n",
       "      <td>58</td>\n",
       "      <td>6</td>\n",
       "      <td>1</td>\n",
       "      <td>17</td>\n",
       "      <td>...</td>\n",
       "      <td>0.874569</td>\n",
       "      <td>0.356291</td>\n",
       "      <td>1.603882</td>\n",
       "      <td>4.753784</td>\n",
       "      <td>4.148193</td>\n",
       "      <td>-1.470093</td>\n",
       "      <td>-11.100464</td>\n",
       "      <td>-12.336670</td>\n",
       "      <td>-5.963135</td>\n",
       "      <td>0.988392</td>\n",
       "    </tr>\n",
       "    <tr>\n",
       "      <th>1</th>\n",
       "      <td>2008</td>\n",
       "      <td>258867.689635</td>\n",
       "      <td>259828.732219</td>\n",
       "      <td>11</td>\n",
       "      <td>4</td>\n",
       "      <td>17</td>\n",
       "      <td>54</td>\n",
       "      <td>7</td>\n",
       "      <td>1</td>\n",
       "      <td>15</td>\n",
       "      <td>...</td>\n",
       "      <td>0.878048</td>\n",
       "      <td>0.334665</td>\n",
       "      <td>2.194458</td>\n",
       "      <td>6.627686</td>\n",
       "      <td>12.104614</td>\n",
       "      <td>5.567993</td>\n",
       "      <td>-2.701172</td>\n",
       "      <td>-3.747559</td>\n",
       "      <td>2.392578</td>\n",
       "      <td>1.749427</td>\n",
       "    </tr>\n",
       "    <tr>\n",
       "      <th>2</th>\n",
       "      <td>2008</td>\n",
       "      <td>258897.689635</td>\n",
       "      <td>259828.732219</td>\n",
       "      <td>13</td>\n",
       "      <td>4</td>\n",
       "      <td>20</td>\n",
       "      <td>50</td>\n",
       "      <td>8</td>\n",
       "      <td>1</td>\n",
       "      <td>15</td>\n",
       "      <td>...</td>\n",
       "      <td>0.857420</td>\n",
       "      <td>0.232377</td>\n",
       "      <td>3.656982</td>\n",
       "      <td>9.685669</td>\n",
       "      <td>17.495483</td>\n",
       "      <td>11.958496</td>\n",
       "      <td>5.201782</td>\n",
       "      <td>4.289307</td>\n",
       "      <td>10.161377</td>\n",
       "      <td>1.441160</td>\n",
       "    </tr>\n",
       "    <tr>\n",
       "      <th>3</th>\n",
       "      <td>2008</td>\n",
       "      <td>258927.689635</td>\n",
       "      <td>259828.732219</td>\n",
       "      <td>13</td>\n",
       "      <td>6</td>\n",
       "      <td>23</td>\n",
       "      <td>47</td>\n",
       "      <td>6</td>\n",
       "      <td>0</td>\n",
       "      <td>13</td>\n",
       "      <td>...</td>\n",
       "      <td>0.810817</td>\n",
       "      <td>0.140330</td>\n",
       "      <td>2.746704</td>\n",
       "      <td>9.295776</td>\n",
       "      <td>15.232910</td>\n",
       "      <td>12.478394</td>\n",
       "      <td>7.157715</td>\n",
       "      <td>6.373901</td>\n",
       "      <td>11.948975</td>\n",
       "      <td>1.957156</td>\n",
       "    </tr>\n",
       "    <tr>\n",
       "      <th>4</th>\n",
       "      <td>2008</td>\n",
       "      <td>258957.689635</td>\n",
       "      <td>259828.732219</td>\n",
       "      <td>18</td>\n",
       "      <td>8</td>\n",
       "      <td>22</td>\n",
       "      <td>37</td>\n",
       "      <td>7</td>\n",
       "      <td>0</td>\n",
       "      <td>11</td>\n",
       "      <td>...</td>\n",
       "      <td>0.717921</td>\n",
       "      <td>0.391936</td>\n",
       "      <td>2.318726</td>\n",
       "      <td>4.536865</td>\n",
       "      <td>7.994873</td>\n",
       "      <td>8.333618</td>\n",
       "      <td>4.117920</td>\n",
       "      <td>3.499268</td>\n",
       "      <td>8.769775</td>\n",
       "      <td>0.883531</td>\n",
       "    </tr>\n",
       "  </tbody>\n",
       "</table>\n",
       "<p>5 rows × 35 columns</p>\n",
       "</div>"
      ],
      "text/plain": [
       "   year              x              y  lag_0_AFG  lag_0_BGR  lag_0_LTR  \\\n",
       "0  2008  258837.689635  259828.732219         11          3         15   \n",
       "1  2008  258867.689635  259828.732219         11          4         17   \n",
       "2  2008  258897.689635  259828.732219         13          4         20   \n",
       "3  2008  258927.689635  259828.732219         13          6         23   \n",
       "4  2008  258957.689635  259828.732219         18          8         22   \n",
       "\n",
       "   lag_0_PFG  lag_0_SHR  lag_0_TRE  lag_1_AFG  ...       hli     slope  \\\n",
       "0         58          6          1         17  ...  0.874569  0.356291   \n",
       "1         54          7          1         15  ...  0.878048  0.334665   \n",
       "2         50          8          1         15  ...  0.857420  0.232377   \n",
       "3         47          6          0         13  ...  0.810817  0.140330   \n",
       "4         37          7          0         11  ...  0.717921  0.391936   \n",
       "\n",
       "     tpi_30    tpi_60    tpi_120    tpi_240    tpi_480    tpi_960   tpi_1920  \\\n",
       "0  1.603882  4.753784   4.148193  -1.470093 -11.100464 -12.336670  -5.963135   \n",
       "1  2.194458  6.627686  12.104614   5.567993  -2.701172  -3.747559   2.392578   \n",
       "2  3.656982  9.685669  17.495483  11.958496   5.201782   4.289307  10.161377   \n",
       "3  2.746704  9.295776  15.232910  12.478394   7.157715   6.373901  11.948975   \n",
       "4  2.318726  4.536865   7.994873   8.333618   4.117920   3.499268   8.769775   \n",
       "\n",
       "        twi  \n",
       "0  0.988392  \n",
       "1  1.749427  \n",
       "2  1.441160  \n",
       "3  1.957156  \n",
       "4  0.883531  \n",
       "\n",
       "[5 rows x 35 columns]"
      ]
     },
     "execution_count": 26,
     "metadata": {},
     "output_type": "execute_result"
    }
   ],
   "source": [
    "data.head()"
   ]
  },
  {
   "cell_type": "code",
   "execution_count": null,
   "metadata": {},
   "outputs": [
    {
     "data": {
      "text/plain": [
       "Text(0.5, 1.0, 'Sample Points by Year')"
      ]
     },
     "execution_count": 36,
     "metadata": {},
     "output_type": "execute_result"
    },
    {
     "data": {
      "image/png": "[encoded data removed]",
      "text/plain": [
       "<Figure size 2000x1400 with 1 Axes>"
      ]
     },
     "metadata": {},
     "output_type": "display_data"
    }
   ],
   "source": [
    "# Create categorical colormap for the specific years\n",
    "year_colors = {\n",
    "    2008: '#1f77b4',  # blue\n",
    "    2009: '#ff7f0e',  # orange \n",
    "    2012: '#2ca02c',  # green\n",
    "    2016: '#d62728',  # red\n",
    "    2019: '#9467bd',  # purple\n",
    "    2020: '#8c564b'   # brown\n",
    "}\n",
    "\n",
    "plt.figure(figsize=(20,14))\n",
    "\n",
    "# Plot non-2016 years first\n",
    "for year in sorted([y for y in year_colors.keys() if y != 2016]):\n",
    "    mask = data['year'] == year\n",
    "    plt.scatter(data.loc[mask, 'x'], \n",
    "               data.loc[mask, 'y'],\n",
    "               c=year_colors[year],\n",
    "               label=str(year))\n",
    "\n",
    "# Plot 2016 last so it appears on top\n",
    "mask = data['year'] == 2016\n",
    "plt.scatter(data.loc[mask, 'x'],\n",
    "           data.loc[mask, 'y'], \n",
    "           c=year_colors[2016],\n",
    "           label='2016')\n",
    "\n",
    "# Set aspect ratio to 1:1\n",
    "plt.gca().set_aspect('equal')\n",
    "\n",
    "plt.legend(title='Year')\n",
    "plt.xlabel('X Coordinate')\n",
    "plt.ylabel('Y Coordinate')\n",
    "plt.title('Sample Points by Year')"
   ]
  },
  {
   "cell_type": "code",
   "execution_count": 37,
   "metadata": {},
   "outputs": [
    {
     "name": "stdout",
     "output_type": "stream",
     "text": [
      "Training set size: 186901 samples\n",
      "Test set size: 12540 samples\n"
     ]
    }
   ],
   "source": [
    "# Split data into train and test sets based on year\n",
    "train_data = data[data['year'] != 2020]\n",
    "test_data = data[data['year'] == 2020]\n",
    "\n",
    "print(f\"Training set size: {len(train_data)} samples\")\n",
    "print(f\"Test set size: {len(test_data)} samples\")\n",
    "\n",
    "train_data.to_csv('data/tabular/train.csv', index=False)\n",
    "test_data.to_csv('data/tabular/test.csv', index=False)"
   ]
  }
 ],
 "metadata": {
  "kernelspec": {
   "display_name": "calibrate-rap",
   "language": "python",
   "name": "python3"
  },
  "language_info": {
   "codemirror_mode": {
    "name": "ipython",
    "version": 3
   },
   "file_extension": ".py",
   "mimetype": "text/x-python",
   "name": "python",
   "nbconvert_exporter": "python",
   "pygments_lexer": "ipython3",
   "version": "3.10.16"
  }
 },
 "nbformat": 4,
 "nbformat_minor": 2
}

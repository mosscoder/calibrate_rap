{
 "cells": [
  {
   "cell_type": "code",
   "execution_count": 1,
   "metadata": {},
   "outputs": [
    {
     "name": "stdout",
     "output_type": "stream",
     "text": [
      "Earth Engine initialized successfully!\n"
     ]
    }
   ],
   "source": [
    "# Standard library imports\n",
    "import os\n",
    "import requests\n",
    "\n",
    "# Third party imports\n",
    "import ee\n",
    "import ee.mapclient\n",
    "import folium\n",
    "import geopandas as gpd\n",
    "from google.oauth2 import service_account\n",
    "from osgeo import gdal\n",
    "from pyproj import Transformer\n",
    "\n",
    "from dotenv import load_dotenv\n",
    "import rasterio\n",
    "import numpy as np\n",
    "\n",
    "#Specify the path to the service account key file (found in .env)\n",
    "load_dotenv()\n",
    "key_path = os.getenv('GEE_AUTH_KEY_PATH')\n",
    "\n",
    "# Define the correct scope for Earth Engine\n",
    "SCOPES = ['https://www.googleapis.com/auth/earthengine']\n",
    "\n",
    "# Load the service account credentials\n",
    "credentials = service_account.Credentials.from_service_account_file(\n",
    "    key_path, scopes=SCOPES\n",
    ")\n",
    "\n",
    "# Initialize Earth Engine\n",
    "ee.Initialize(credentials=credentials)\n",
    "print(\"Earth Engine initialized successfully!\")"
   ]
  },
  {
   "cell_type": "code",
   "execution_count": 2,
   "metadata": {},
   "outputs": [
    {
     "name": "stdout",
     "output_type": "stream",
     "text": [
      "Final woodyCover bands: ['woody_cover_1986', 'woody_cover_1987', 'woody_cover_1988', 'woody_cover_1989', 'woody_cover_1990', 'woody_cover_1991', 'woody_cover_1992', 'woody_cover_1993', 'woody_cover_1994', 'woody_cover_1995', 'woody_cover_1996', 'woody_cover_1997', 'woody_cover_1998', 'woody_cover_1999', 'woody_cover_2000', 'woody_cover_2001', 'woody_cover_2002', 'woody_cover_2003', 'woody_cover_2004', 'woody_cover_2005', 'woody_cover_2006', 'woody_cover_2007', 'woody_cover_2008', 'woody_cover_2009', 'woody_cover_2010', 'woody_cover_2011', 'woody_cover_2012', 'woody_cover_2013', 'woody_cover_2014', 'woody_cover_2015', 'woody_cover_2016', 'woody_cover_2017', 'woody_cover_2018', 'woody_cover_2019', 'woody_cover_2020', 'woody_cover_2021', 'woody_cover_2022', 'woody_cover_2023']\n"
     ]
    }
   ],
   "source": [
    "\n",
    "roi = 'data/vector/all_areas.geojson'\n",
    "buffer_amt = 2500\n",
    "\n",
    "# Read the ROI file\n",
    "gdf = gpd.read_file(roi)\n",
    "\n",
    "# Create a buffered envelope (bounding box)\n",
    "buffered_bbox = gdf.envelope.buffer(buffer_amt, cap_style=3)  # cap_style=3 creates square buffers\n",
    "\n",
    "# Transform to EPSG:4326 for Earth Engine\n",
    "buffered_bbox_4326 = buffered_bbox.to_crs(\"EPSG:4326\")\n",
    "\n",
    "# Convert the GeoSeries to a GeoDataFrame\n",
    "buffered_bbox_gdf = gpd.GeoDataFrame(geometry=buffered_bbox_4326)\n",
    "\n",
    "# Convert all geometries to Earth Engine geometries\n",
    "ee_geometries = []\n",
    "for _, row in buffered_bbox_gdf.iterrows():\n",
    "    coords = row.geometry.exterior.coords.xy\n",
    "    ee_coords = [[x, y] for x, y in zip(coords[0], coords[1])]\n",
    "    ee_geometries.append(ee.Geometry.Polygon(ee_coords, proj='EPSG:4326'))\n",
    "\n",
    "# Create a GeometryCollection from the list of geometries\n",
    "geometry_collection = ee.Geometry.MultiPolygon(ee_geometries)\n",
    "\n",
    "# Get the bounding box of the GeometryCollection\n",
    "bounding_box = geometry_collection.bounds()\n",
    "# Image collection path\n",
    "path_to_asset = 'projects/rap-data-365417/assets/vegetation-cover-v3'\n",
    "\n",
    "# Load the image collection\n",
    "image_collection = ee.ImageCollection(path_to_asset)\n",
    "\n",
    "available_years = [\n",
    "    1986, 1987, 1988, 1989, 1990, 1991, 1992, 1993, 1994, 1995,\n",
    "    1996, 1997, 1998, 1999, 2000, 2001, 2002, 2003, 2004, 2005,\n",
    "    2006, 2007, 2008, 2009, 2010, 2011, 2012, 2013, 2014, 2015,\n",
    "    2016, 2017, 2018, 2019, 2020, 2021, 2022, 2023\n",
    "]\n",
    "\n",
    "# Initialize woodyCover as None\n",
    "woodyCover = None\n",
    "\n",
    "# Process each year in the list\n",
    "for year in available_years:\n",
    "    # Filter images for the specific year\n",
    "    yearly_image = image_collection.filter(\n",
    "        ee.Filter.calendarRange(year, year, 'year')\n",
    "    ).median().clip(bounding_box)\n",
    "\n",
    "    # Calculate woody cover (tree + shrub cover) - Corrected band selection\n",
    "    treeCover = yearly_image.select('TRE').rename(f'tree_cover_{year}')\n",
    "    shrubCover = yearly_image.select('SHR').rename(f'shrub_cover_{year}')\n",
    "\n",
    "    woodyCoverYear = treeCover.add(shrubCover).rename(f'woody_cover_{year}')\n",
    "    # Add the yearly woody cover as a new band - Handling the first year differently\n",
    "    if woodyCover is None:\n",
    "        woodyCover = woodyCoverYear\n",
    "    else:\n",
    "        woodyCover = woodyCover.addBands(woodyCoverYear)\n",
    "\n",
    "# Check the final woodyCover image bands\n",
    "print(\"Final woodyCover bands:\", woodyCover.bandNames().getInfo())"
   ]
  },
  {
   "cell_type": "code",
   "execution_count": 3,
   "metadata": {},
   "outputs": [
    {
     "data": {
      "text/html": [
       "<div style=\"width:100%;\"><div style=\"position:relative;width:100%;height:0;padding-bottom:60%;\"><span style=\"color:#565656\">Make this Notebook Trusted to load map: File -> Trust Notebook</span><iframe srcdoc=\"&lt;!DOCTYPE html&gt;\n",
       "&lt;html&gt;\n",
       "&lt;head&gt;\n",
       "    \n",
       "    &lt;meta http-equiv=&quot;content-type&quot; content=&quot;text/html; charset=UTF-8&quot; /&gt;\n",
       "    \n",
       "        &lt;script&gt;\n",
       "            L_NO_TOUCH = false;\n",
       "            L_DISABLE_3D = false;\n",
       "        &lt;/script&gt;\n",
       "    \n",
       "    &lt;style&gt;html, body {width: 100%;height: 100%;margin: 0;padding: 0;}&lt;/style&gt;\n",
       "    &lt;style&gt;#map {position:absolute;top:0;bottom:0;right:0;left:0;}&lt;/style&gt;\n",
       "    &lt;script src=&quot;https://cdn.jsdelivr.net/npm/leaflet@1.9.3/dist/leaflet.js&quot;&gt;&lt;/script&gt;\n",
       "    &lt;script src=&quot;https://code.jquery.com/jquery-3.7.1.min.js&quot;&gt;&lt;/script&gt;\n",
       "    &lt;script src=&quot;https://cdn.jsdelivr.net/npm/bootstrap@5.2.2/dist/js/bootstrap.bundle.min.js&quot;&gt;&lt;/script&gt;\n",
       "    &lt;script src=&quot;https://cdnjs.cloudflare.com/ajax/libs/Leaflet.awesome-markers/2.0.2/leaflet.awesome-markers.js&quot;&gt;&lt;/script&gt;\n",
       "    &lt;link rel=&quot;stylesheet&quot; href=&quot;https://cdn.jsdelivr.net/npm/leaflet@1.9.3/dist/leaflet.css&quot;/&gt;\n",
       "    &lt;link rel=&quot;stylesheet&quot; href=&quot;https://cdn.jsdelivr.net/npm/bootstrap@5.2.2/dist/css/bootstrap.min.css&quot;/&gt;\n",
       "    &lt;link rel=&quot;stylesheet&quot; href=&quot;https://netdna.bootstrapcdn.com/bootstrap/3.0.0/css/bootstrap-glyphicons.css&quot;/&gt;\n",
       "    &lt;link rel=&quot;stylesheet&quot; href=&quot;https://cdn.jsdelivr.net/npm/@fortawesome/fontawesome-free@6.2.0/css/all.min.css&quot;/&gt;\n",
       "    &lt;link rel=&quot;stylesheet&quot; href=&quot;https://cdnjs.cloudflare.com/ajax/libs/Leaflet.awesome-markers/2.0.2/leaflet.awesome-markers.css&quot;/&gt;\n",
       "    &lt;link rel=&quot;stylesheet&quot; href=&quot;https://cdn.jsdelivr.net/gh/python-visualization/folium/folium/templates/leaflet.awesome.rotate.min.css&quot;/&gt;\n",
       "    \n",
       "            &lt;meta name=&quot;viewport&quot; content=&quot;width=device-width,\n",
       "                initial-scale=1.0, maximum-scale=1.0, user-scalable=no&quot; /&gt;\n",
       "            &lt;style&gt;\n",
       "                #map_e12905e1f55ba1217fdd4655335dce40 {\n",
       "                    position: relative;\n",
       "                    width: 100.0%;\n",
       "                    height: 100.0%;\n",
       "                    left: 0.0%;\n",
       "                    top: 0.0%;\n",
       "                }\n",
       "                .leaflet-container { font-size: 1rem; }\n",
       "            &lt;/style&gt;\n",
       "        \n",
       "&lt;/head&gt;\n",
       "&lt;body&gt;\n",
       "    \n",
       "    \n",
       "            &lt;div class=&quot;folium-map&quot; id=&quot;map_e12905e1f55ba1217fdd4655335dce40&quot; &gt;&lt;/div&gt;\n",
       "        \n",
       "&lt;/body&gt;\n",
       "&lt;script&gt;\n",
       "    \n",
       "    \n",
       "            var map_e12905e1f55ba1217fdd4655335dce40 = L.map(\n",
       "                &quot;map_e12905e1f55ba1217fdd4655335dce40&quot;,\n",
       "                {\n",
       "                    center: [46.6917296918519, -114.0227113212247],\n",
       "                    crs: L.CRS.EPSG3857,\n",
       "                    ...{\n",
       "  &quot;zoom&quot;: 12,\n",
       "  &quot;zoomControl&quot;: true,\n",
       "  &quot;preferCanvas&quot;: false,\n",
       "}\n",
       "\n",
       "                }\n",
       "            );\n",
       "\n",
       "            \n",
       "\n",
       "        \n",
       "    \n",
       "            var tile_layer_8f2515fd561b652de094c7c80e006d23 = L.tileLayer(\n",
       "                &quot;https://tile.openstreetmap.org/{z}/{x}/{y}.png&quot;,\n",
       "                {\n",
       "  &quot;minZoom&quot;: 0,\n",
       "  &quot;maxZoom&quot;: 19,\n",
       "  &quot;maxNativeZoom&quot;: 19,\n",
       "  &quot;noWrap&quot;: false,\n",
       "  &quot;attribution&quot;: &quot;\\u0026copy; \\u003ca href=\\&quot;https://www.openstreetmap.org/copyright\\&quot;\\u003eOpenStreetMap\\u003c/a\\u003e contributors&quot;,\n",
       "  &quot;subdomains&quot;: &quot;abc&quot;,\n",
       "  &quot;detectRetina&quot;: false,\n",
       "  &quot;tms&quot;: false,\n",
       "  &quot;opacity&quot;: 1,\n",
       "}\n",
       "\n",
       "            );\n",
       "        \n",
       "    \n",
       "            tile_layer_8f2515fd561b652de094c7c80e006d23.addTo(map_e12905e1f55ba1217fdd4655335dce40);\n",
       "        \n",
       "    \n",
       "            var tile_layer_dbd618862b162f1478c6ffc358946def = L.tileLayer(\n",
       "                &quot;https://earthengine.googleapis.com/v1/projects/earthengine-legacy/maps/f944bbc1d0d3f90eb3ebfa46658189dc-5e40d8f8e7011d0833eb49ea6e19c85d/tiles/{z}/{x}/{y}&quot;,\n",
       "                {\n",
       "  &quot;minZoom&quot;: 0,\n",
       "  &quot;maxZoom&quot;: 18,\n",
       "  &quot;maxNativeZoom&quot;: 18,\n",
       "  &quot;noWrap&quot;: false,\n",
       "  &quot;attribution&quot;: &quot;Map Data \\u0026copy; \\u003ca href=\\&quot;https://earthengine.google.com/\\&quot;\\u003eGoogle Earth Engine\\u003c/a\\u003e&quot;,\n",
       "  &quot;subdomains&quot;: &quot;abc&quot;,\n",
       "  &quot;detectRetina&quot;: false,\n",
       "  &quot;tms&quot;: false,\n",
       "  &quot;opacity&quot;: 1,\n",
       "}\n",
       "\n",
       "            );\n",
       "        \n",
       "    \n",
       "            tile_layer_dbd618862b162f1478c6ffc358946def.addTo(map_e12905e1f55ba1217fdd4655335dce40);\n",
       "        \n",
       "    \n",
       "            var tile_layer_786b1163675ca9e6e816fc53fa551ea3 = L.tileLayer(\n",
       "                &quot;https://earthengine.googleapis.com/v1/projects/earthengine-legacy/maps/103265b65da694daefe97432b048ccee-043ddeda3ef1fa141d33ce1bad478bf8/tiles/{z}/{x}/{y}&quot;,\n",
       "                {\n",
       "  &quot;minZoom&quot;: 0,\n",
       "  &quot;maxZoom&quot;: 18,\n",
       "  &quot;maxNativeZoom&quot;: 18,\n",
       "  &quot;noWrap&quot;: false,\n",
       "  &quot;attribution&quot;: &quot;Map Data \\u0026copy; \\u003ca href=\\&quot;https://earthengine.google.com/\\&quot;\\u003eGoogle Earth Engine\\u003c/a\\u003e&quot;,\n",
       "  &quot;subdomains&quot;: &quot;abc&quot;,\n",
       "  &quot;detectRetina&quot;: false,\n",
       "  &quot;tms&quot;: false,\n",
       "  &quot;opacity&quot;: 1,\n",
       "}\n",
       "\n",
       "            );\n",
       "        \n",
       "    \n",
       "            tile_layer_786b1163675ca9e6e816fc53fa551ea3.addTo(map_e12905e1f55ba1217fdd4655335dce40);\n",
       "        \n",
       "    \n",
       "            var layer_control_a84b4416bb8589acca2fb74cd9f504af_layers = {\n",
       "                base_layers : {\n",
       "                    &quot;openstreetmap&quot; : tile_layer_8f2515fd561b652de094c7c80e006d23,\n",
       "                },\n",
       "                overlays :  {\n",
       "                    &quot;woody_cover_1986&quot; : tile_layer_dbd618862b162f1478c6ffc358946def,\n",
       "                    &quot;woody_cover_2023&quot; : tile_layer_786b1163675ca9e6e816fc53fa551ea3,\n",
       "                },\n",
       "            };\n",
       "            let layer_control_a84b4416bb8589acca2fb74cd9f504af = L.control.layers(\n",
       "                layer_control_a84b4416bb8589acca2fb74cd9f504af_layers.base_layers,\n",
       "                layer_control_a84b4416bb8589acca2fb74cd9f504af_layers.overlays,\n",
       "                {\n",
       "  &quot;position&quot;: &quot;topright&quot;,\n",
       "  &quot;collapsed&quot;: true,\n",
       "  &quot;autoZIndex&quot;: true,\n",
       "}\n",
       "            ).addTo(map_e12905e1f55ba1217fdd4655335dce40);\n",
       "\n",
       "        \n",
       "&lt;/script&gt;\n",
       "&lt;/html&gt;\" style=\"position:absolute;width:100%;height:100%;left:0;top:0;border:none !important;\" allowfullscreen webkitallowfullscreen mozallowfullscreen></iframe></div></div>"
      ],
      "text/plain": [
       "<folium.folium.Map at 0x105bff790>"
      ]
     },
     "metadata": {},
     "output_type": "display_data"
    }
   ],
   "source": [
    "\n",
    "# Define visualization parameters\n",
    "vis_params = {'min': 0, 'max': 100, 'palette': ['440154', '482878', '3E4A89', '31688E', '26828E', '1F9E89', '35B779', '6DCD59', 'B4DE2C', 'FDE725']}\n",
    "\n",
    "# Create a folium map object.\n",
    "# Instead of using centroid, use the bounding box coordinates directly\n",
    "bounding_box_coords = bounding_box.coordinates().getInfo()[0]\n",
    "# Calculate the center of the bounding box\n",
    "lon_coords = [coord[0] for coord in bounding_box_coords]\n",
    "lat_coords = [coord[1] for coord in bounding_box_coords]\n",
    "centroid_lon = (min(lon_coords) + max(lon_coords)) / 2\n",
    "centroid_lat = (min(lat_coords) + max(lat_coords)) / 2\n",
    "\n",
    "m = folium.Map(location=[centroid_lat, centroid_lon], zoom_start=12)\n",
    "\n",
    "# List of years to display\n",
    "years_to_display = [1986, 2023]\n",
    "\n",
    "for year in years_to_display:\n",
    "    # Get the band name for the current year\n",
    "    woody_band_name = f'woody_cover_{year}'\n",
    "\n",
    "    # Check if the band exists\n",
    "    if woody_band_name in woodyCover.bandNames().getInfo():\n",
    "        # Select the woody cover band for the current year\n",
    "        woodyCover_year = woodyCover.select(woody_band_name)\n",
    "\n",
    "        # Add the image layer to the map\n",
    "        map_id_dict = woodyCover_year.getMapId(vis_params)\n",
    "        folium.TileLayer(\n",
    "            tiles=map_id_dict['tile_fetcher'].url_format,\n",
    "            attr='Map Data &copy; <a href=\"https://earthengine.google.com/\">Google Earth Engine</a>',\n",
    "            overlay=True,\n",
    "            name=f'woody_cover_{year}',\n",
    "        ).add_to(m)\n",
    "    else:\n",
    "        print(f\"Band '{woody_band_name}' not found in woodyCover.\")\n",
    "\n",
    "# Add a layer control panel to the map.\n",
    "m.add_child(folium.LayerControl())\n",
    "\n",
    "# Display the map\n",
    "display(m)"
   ]
  },
  {
   "cell_type": "code",
   "execution_count": 26,
   "metadata": {},
   "outputs": [
    {
     "name": "stdout",
     "output_type": "stream",
     "text": [
      "Downloaded file data/raster/rap/woody_cover_1986.tif\n"
     ]
    },
    {
     "name": "stderr",
     "output_type": "stream",
     "text": [
      "Warning 1: TIFFWriteDirectorySec:Creating TIFF with legacy Deflate codec identifier, COMPRESSION_ADOBE_DEFLATE is more widely supported\n"
     ]
    },
    {
     "name": "stdout",
     "output_type": "stream",
     "text": [
      "Downloaded file data/raster/rap/woody_cover_1987.tif\n"
     ]
    },
    {
     "name": "stderr",
     "output_type": "stream",
     "text": [
      "Warning 1: TIFFWriteDirectorySec:Creating TIFF with legacy Deflate codec identifier, COMPRESSION_ADOBE_DEFLATE is more widely supported\n"
     ]
    },
    {
     "name": "stdout",
     "output_type": "stream",
     "text": [
      "Downloaded file data/raster/rap/woody_cover_1988.tif\n"
     ]
    },
    {
     "name": "stderr",
     "output_type": "stream",
     "text": [
      "Warning 1: TIFFWriteDirectorySec:Creating TIFF with legacy Deflate codec identifier, COMPRESSION_ADOBE_DEFLATE is more widely supported\n"
     ]
    },
    {
     "name": "stdout",
     "output_type": "stream",
     "text": [
      "Downloaded file data/raster/rap/woody_cover_1989.tif\n"
     ]
    },
    {
     "name": "stderr",
     "output_type": "stream",
     "text": [
      "Warning 1: TIFFWriteDirectorySec:Creating TIFF with legacy Deflate codec identifier, COMPRESSION_ADOBE_DEFLATE is more widely supported\n"
     ]
    },
    {
     "name": "stdout",
     "output_type": "stream",
     "text": [
      "Downloaded file data/raster/rap/woody_cover_1990.tif\n"
     ]
    },
    {
     "name": "stderr",
     "output_type": "stream",
     "text": [
      "Warning 1: TIFFWriteDirectorySec:Creating TIFF with legacy Deflate codec identifier, COMPRESSION_ADOBE_DEFLATE is more widely supported\n"
     ]
    },
    {
     "name": "stdout",
     "output_type": "stream",
     "text": [
      "Downloaded file data/raster/rap/woody_cover_1991.tif\n"
     ]
    },
    {
     "name": "stderr",
     "output_type": "stream",
     "text": [
      "Warning 1: TIFFWriteDirectorySec:Creating TIFF with legacy Deflate codec identifier, COMPRESSION_ADOBE_DEFLATE is more widely supported\n"
     ]
    },
    {
     "name": "stdout",
     "output_type": "stream",
     "text": [
      "Downloaded file data/raster/rap/woody_cover_1992.tif\n"
     ]
    },
    {
     "name": "stderr",
     "output_type": "stream",
     "text": [
      "Warning 1: TIFFWriteDirectorySec:Creating TIFF with legacy Deflate codec identifier, COMPRESSION_ADOBE_DEFLATE is more widely supported\n"
     ]
    },
    {
     "name": "stdout",
     "output_type": "stream",
     "text": [
      "Downloaded file data/raster/rap/woody_cover_1993.tif\n"
     ]
    },
    {
     "name": "stderr",
     "output_type": "stream",
     "text": [
      "Warning 1: TIFFWriteDirectorySec:Creating TIFF with legacy Deflate codec identifier, COMPRESSION_ADOBE_DEFLATE is more widely supported\n"
     ]
    },
    {
     "name": "stdout",
     "output_type": "stream",
     "text": [
      "Downloaded file data/raster/rap/woody_cover_1994.tif\n"
     ]
    },
    {
     "name": "stderr",
     "output_type": "stream",
     "text": [
      "Warning 1: TIFFWriteDirectorySec:Creating TIFF with legacy Deflate codec identifier, COMPRESSION_ADOBE_DEFLATE is more widely supported\n"
     ]
    },
    {
     "name": "stdout",
     "output_type": "stream",
     "text": [
      "Downloaded file data/raster/rap/woody_cover_1995.tif\n"
     ]
    },
    {
     "name": "stderr",
     "output_type": "stream",
     "text": [
      "Warning 1: TIFFWriteDirectorySec:Creating TIFF with legacy Deflate codec identifier, COMPRESSION_ADOBE_DEFLATE is more widely supported\n"
     ]
    },
    {
     "name": "stdout",
     "output_type": "stream",
     "text": [
      "Downloaded file data/raster/rap/woody_cover_1996.tif\n"
     ]
    },
    {
     "name": "stderr",
     "output_type": "stream",
     "text": [
      "Warning 1: TIFFWriteDirectorySec:Creating TIFF with legacy Deflate codec identifier, COMPRESSION_ADOBE_DEFLATE is more widely supported\n"
     ]
    },
    {
     "name": "stdout",
     "output_type": "stream",
     "text": [
      "Downloaded file data/raster/rap/woody_cover_1997.tif\n"
     ]
    },
    {
     "name": "stderr",
     "output_type": "stream",
     "text": [
      "Warning 1: TIFFWriteDirectorySec:Creating TIFF with legacy Deflate codec identifier, COMPRESSION_ADOBE_DEFLATE is more widely supported\n"
     ]
    },
    {
     "name": "stdout",
     "output_type": "stream",
     "text": [
      "Downloaded file data/raster/rap/woody_cover_1998.tif\n"
     ]
    },
    {
     "name": "stderr",
     "output_type": "stream",
     "text": [
      "Warning 1: TIFFWriteDirectorySec:Creating TIFF with legacy Deflate codec identifier, COMPRESSION_ADOBE_DEFLATE is more widely supported\n"
     ]
    },
    {
     "name": "stdout",
     "output_type": "stream",
     "text": [
      "Downloaded file data/raster/rap/woody_cover_1999.tif\n"
     ]
    },
    {
     "name": "stderr",
     "output_type": "stream",
     "text": [
      "Warning 1: TIFFWriteDirectorySec:Creating TIFF with legacy Deflate codec identifier, COMPRESSION_ADOBE_DEFLATE is more widely supported\n"
     ]
    },
    {
     "name": "stdout",
     "output_type": "stream",
     "text": [
      "Downloaded file data/raster/rap/woody_cover_2000.tif\n"
     ]
    },
    {
     "name": "stderr",
     "output_type": "stream",
     "text": [
      "Warning 1: TIFFWriteDirectorySec:Creating TIFF with legacy Deflate codec identifier, COMPRESSION_ADOBE_DEFLATE is more widely supported\n"
     ]
    },
    {
     "name": "stdout",
     "output_type": "stream",
     "text": [
      "Downloaded file data/raster/rap/woody_cover_2001.tif\n"
     ]
    },
    {
     "name": "stderr",
     "output_type": "stream",
     "text": [
      "Warning 1: TIFFWriteDirectorySec:Creating TIFF with legacy Deflate codec identifier, COMPRESSION_ADOBE_DEFLATE is more widely supported\n"
     ]
    },
    {
     "name": "stdout",
     "output_type": "stream",
     "text": [
      "Downloaded file data/raster/rap/woody_cover_2002.tif\n"
     ]
    },
    {
     "name": "stderr",
     "output_type": "stream",
     "text": [
      "Warning 1: TIFFWriteDirectorySec:Creating TIFF with legacy Deflate codec identifier, COMPRESSION_ADOBE_DEFLATE is more widely supported\n"
     ]
    },
    {
     "name": "stdout",
     "output_type": "stream",
     "text": [
      "Downloaded file data/raster/rap/woody_cover_2003.tif\n"
     ]
    },
    {
     "name": "stderr",
     "output_type": "stream",
     "text": [
      "Warning 1: TIFFWriteDirectorySec:Creating TIFF with legacy Deflate codec identifier, COMPRESSION_ADOBE_DEFLATE is more widely supported\n"
     ]
    },
    {
     "name": "stdout",
     "output_type": "stream",
     "text": [
      "Downloaded file data/raster/rap/woody_cover_2004.tif\n"
     ]
    },
    {
     "name": "stderr",
     "output_type": "stream",
     "text": [
      "Warning 1: TIFFWriteDirectorySec:Creating TIFF with legacy Deflate codec identifier, COMPRESSION_ADOBE_DEFLATE is more widely supported\n"
     ]
    },
    {
     "name": "stdout",
     "output_type": "stream",
     "text": [
      "Downloaded file data/raster/rap/woody_cover_2005.tif\n"
     ]
    },
    {
     "name": "stderr",
     "output_type": "stream",
     "text": [
      "Warning 1: TIFFWriteDirectorySec:Creating TIFF with legacy Deflate codec identifier, COMPRESSION_ADOBE_DEFLATE is more widely supported\n"
     ]
    },
    {
     "name": "stdout",
     "output_type": "stream",
     "text": [
      "Downloaded file data/raster/rap/woody_cover_2006.tif\n"
     ]
    },
    {
     "name": "stderr",
     "output_type": "stream",
     "text": [
      "Warning 1: TIFFWriteDirectorySec:Creating TIFF with legacy Deflate codec identifier, COMPRESSION_ADOBE_DEFLATE is more widely supported\n"
     ]
    },
    {
     "name": "stdout",
     "output_type": "stream",
     "text": [
      "Downloaded file data/raster/rap/woody_cover_2007.tif\n"
     ]
    },
    {
     "name": "stderr",
     "output_type": "stream",
     "text": [
      "Warning 1: TIFFWriteDirectorySec:Creating TIFF with legacy Deflate codec identifier, COMPRESSION_ADOBE_DEFLATE is more widely supported\n"
     ]
    },
    {
     "name": "stdout",
     "output_type": "stream",
     "text": [
      "Downloaded file data/raster/rap/woody_cover_2008.tif\n"
     ]
    },
    {
     "name": "stderr",
     "output_type": "stream",
     "text": [
      "Warning 1: TIFFWriteDirectorySec:Creating TIFF with legacy Deflate codec identifier, COMPRESSION_ADOBE_DEFLATE is more widely supported\n"
     ]
    },
    {
     "name": "stdout",
     "output_type": "stream",
     "text": [
      "Downloaded file data/raster/rap/woody_cover_2009.tif\n"
     ]
    },
    {
     "name": "stderr",
     "output_type": "stream",
     "text": [
      "Warning 1: TIFFWriteDirectorySec:Creating TIFF with legacy Deflate codec identifier, COMPRESSION_ADOBE_DEFLATE is more widely supported\n"
     ]
    },
    {
     "name": "stdout",
     "output_type": "stream",
     "text": [
      "Downloaded file data/raster/rap/woody_cover_2010.tif\n"
     ]
    },
    {
     "name": "stderr",
     "output_type": "stream",
     "text": [
      "Warning 1: TIFFWriteDirectorySec:Creating TIFF with legacy Deflate codec identifier, COMPRESSION_ADOBE_DEFLATE is more widely supported\n"
     ]
    },
    {
     "name": "stdout",
     "output_type": "stream",
     "text": [
      "Downloaded file data/raster/rap/woody_cover_2011.tif\n"
     ]
    },
    {
     "name": "stderr",
     "output_type": "stream",
     "text": [
      "Warning 1: TIFFWriteDirectorySec:Creating TIFF with legacy Deflate codec identifier, COMPRESSION_ADOBE_DEFLATE is more widely supported\n"
     ]
    },
    {
     "name": "stdout",
     "output_type": "stream",
     "text": [
      "Downloaded file data/raster/rap/woody_cover_2012.tif\n"
     ]
    },
    {
     "name": "stderr",
     "output_type": "stream",
     "text": [
      "Warning 1: TIFFWriteDirectorySec:Creating TIFF with legacy Deflate codec identifier, COMPRESSION_ADOBE_DEFLATE is more widely supported\n"
     ]
    },
    {
     "name": "stdout",
     "output_type": "stream",
     "text": [
      "Downloaded file data/raster/rap/woody_cover_2013.tif\n"
     ]
    },
    {
     "name": "stderr",
     "output_type": "stream",
     "text": [
      "Warning 1: TIFFWriteDirectorySec:Creating TIFF with legacy Deflate codec identifier, COMPRESSION_ADOBE_DEFLATE is more widely supported\n"
     ]
    },
    {
     "name": "stdout",
     "output_type": "stream",
     "text": [
      "Downloaded file data/raster/rap/woody_cover_2014.tif\n"
     ]
    },
    {
     "name": "stderr",
     "output_type": "stream",
     "text": [
      "Warning 1: TIFFWriteDirectorySec:Creating TIFF with legacy Deflate codec identifier, COMPRESSION_ADOBE_DEFLATE is more widely supported\n"
     ]
    },
    {
     "name": "stdout",
     "output_type": "stream",
     "text": [
      "Downloaded file data/raster/rap/woody_cover_2015.tif\n"
     ]
    },
    {
     "name": "stderr",
     "output_type": "stream",
     "text": [
      "Warning 1: TIFFWriteDirectorySec:Creating TIFF with legacy Deflate codec identifier, COMPRESSION_ADOBE_DEFLATE is more widely supported\n"
     ]
    },
    {
     "name": "stdout",
     "output_type": "stream",
     "text": [
      "Downloaded file data/raster/rap/woody_cover_2016.tif\n"
     ]
    },
    {
     "name": "stderr",
     "output_type": "stream",
     "text": [
      "Warning 1: TIFFWriteDirectorySec:Creating TIFF with legacy Deflate codec identifier, COMPRESSION_ADOBE_DEFLATE is more widely supported\n"
     ]
    },
    {
     "name": "stdout",
     "output_type": "stream",
     "text": [
      "Downloaded file data/raster/rap/woody_cover_2017.tif\n"
     ]
    },
    {
     "name": "stderr",
     "output_type": "stream",
     "text": [
      "Warning 1: TIFFWriteDirectorySec:Creating TIFF with legacy Deflate codec identifier, COMPRESSION_ADOBE_DEFLATE is more widely supported\n"
     ]
    },
    {
     "name": "stdout",
     "output_type": "stream",
     "text": [
      "Downloaded file data/raster/rap/woody_cover_2018.tif\n"
     ]
    },
    {
     "name": "stderr",
     "output_type": "stream",
     "text": [
      "Warning 1: TIFFWriteDirectorySec:Creating TIFF with legacy Deflate codec identifier, COMPRESSION_ADOBE_DEFLATE is more widely supported\n"
     ]
    },
    {
     "name": "stdout",
     "output_type": "stream",
     "text": [
      "Downloaded file data/raster/rap/woody_cover_2019.tif\n"
     ]
    },
    {
     "name": "stderr",
     "output_type": "stream",
     "text": [
      "Warning 1: TIFFWriteDirectorySec:Creating TIFF with legacy Deflate codec identifier, COMPRESSION_ADOBE_DEFLATE is more widely supported\n"
     ]
    },
    {
     "name": "stdout",
     "output_type": "stream",
     "text": [
      "Downloaded file data/raster/rap/woody_cover_2020.tif\n"
     ]
    },
    {
     "name": "stderr",
     "output_type": "stream",
     "text": [
      "Warning 1: TIFFWriteDirectorySec:Creating TIFF with legacy Deflate codec identifier, COMPRESSION_ADOBE_DEFLATE is more widely supported\n"
     ]
    },
    {
     "name": "stdout",
     "output_type": "stream",
     "text": [
      "Downloaded file data/raster/rap/woody_cover_2021.tif\n"
     ]
    },
    {
     "name": "stderr",
     "output_type": "stream",
     "text": [
      "Warning 1: TIFFWriteDirectorySec:Creating TIFF with legacy Deflate codec identifier, COMPRESSION_ADOBE_DEFLATE is more widely supported\n"
     ]
    },
    {
     "name": "stdout",
     "output_type": "stream",
     "text": [
      "Downloaded file data/raster/rap/woody_cover_2022.tif\n"
     ]
    },
    {
     "name": "stderr",
     "output_type": "stream",
     "text": [
      "Warning 1: TIFFWriteDirectorySec:Creating TIFF with legacy Deflate codec identifier, COMPRESSION_ADOBE_DEFLATE is more widely supported\n"
     ]
    },
    {
     "name": "stdout",
     "output_type": "stream",
     "text": [
      "Downloaded file data/raster/rap/woody_cover_2023.tif\n"
     ]
    },
    {
     "name": "stderr",
     "output_type": "stream",
     "text": [
      "Warning 1: TIFFWriteDirectorySec:Creating TIFF with legacy Deflate codec identifier, COMPRESSION_ADOBE_DEFLATE is more widely supported\n"
     ]
    }
   ],
   "source": [
    "rap_dir = 'data/raster/rap'\n",
    "os.makedirs(rap_dir, exist_ok=True)\n",
    "\n",
    "# Set the GTIFF_SRS_SOURCE configuration option to EPSG\n",
    "gdal.SetConfigOption('GTIFF_SRS_SOURCE', 'EPSG')\n",
    "\n",
    "# Assuming 'woodyCover' is your ee.Image and 'bounding_box' is your ee.Geometry\n",
    "\n",
    "for cover_image in [woodyCover]:\n",
    "    for band_name in cover_image.bandNames().getInfo():\n",
    "        # Choose a value that doesn't exist in your data and doesn't have meaning in the context of your data.\n",
    "        remapped_image = cover_image.select(band_name).unmask(255)\n",
    "\n",
    "        # Set an explicit \"no data\" value to null in the download URL parameters\n",
    "        url = remapped_image.getDownloadURL({\n",
    "            'scale': 30,\n",
    "            'crs': 'EPSG:6514',\n",
    "            'region': bounding_box,\n",
    "            'format': 'GeoTIFF',\n",
    "            'formatOptions': {\n",
    "                'cloudOptimized': True,\n",
    "                'noData': 255\n",
    "            }\n",
    "        })\n",
    "\n",
    "        response = requests.get(url)\n",
    "        \n",
    "        # Create output file path\n",
    "        output_file = os.path.join(rap_dir, f\"{band_name}.tif\")\n",
    "        \n",
    "        # Write response content directly to final file\n",
    "        with open(output_file, 'wb') as f:\n",
    "            f.write(response.content)\n",
    "        \n",
    "        print(f\"Downloaded file {output_file}\")\n",
    "\n",
    "        # Set nodata value to 255\n",
    "        dataset = gdal.Open(output_file, gdal.GA_Update)\n",
    "        band = dataset.GetRasterBand(1)\n",
    "        band.SetNoDataValue(255)\n",
    "        dataset = None"
   ]
  },
  {
   "cell_type": "code",
   "execution_count": 23,
   "metadata": {},
   "outputs": [
    {
     "name": "stdout",
     "output_type": "stream",
     "text": [
      "Correlation between woody and herb cover for year 1986: -0.64\n",
      "Correlation between woody and herb cover for year 1987: -0.57\n",
      "Correlation between woody and herb cover for year 1988: -0.58\n",
      "Correlation between woody and herb cover for year 1989: -0.52\n",
      "Correlation between woody and herb cover for year 1990: -0.52\n",
      "Correlation between woody and herb cover for year 1991: -0.56\n",
      "Correlation between woody and herb cover for year 1992: -0.48\n",
      "Correlation between woody and herb cover for year 1993: -0.53\n",
      "Correlation between woody and herb cover for year 1994: -0.69\n",
      "Correlation between woody and herb cover for year 1995: -0.63\n",
      "Correlation between woody and herb cover for year 1996: -0.66\n",
      "Correlation between woody and herb cover for year 1997: -0.54\n",
      "Correlation between woody and herb cover for year 1998: -0.63\n",
      "Correlation between woody and herb cover for year 1999: -0.65\n",
      "Correlation between woody and herb cover for year 2000: -0.60\n",
      "Correlation between woody and herb cover for year 2001: -0.69\n",
      "Correlation between woody and herb cover for year 2002: -0.77\n",
      "Correlation between woody and herb cover for year 2003: -0.73\n",
      "Correlation between woody and herb cover for year 2004: -0.68\n",
      "Correlation between woody and herb cover for year 2005: -0.67\n",
      "Correlation between woody and herb cover for year 2006: -0.72\n",
      "Correlation between woody and herb cover for year 2007: -0.63\n",
      "Correlation between woody and herb cover for year 2008: -0.60\n",
      "Correlation between woody and herb cover for year 2009: -0.66\n",
      "Correlation between woody and herb cover for year 2010: -0.61\n",
      "Correlation between woody and herb cover for year 2011: -0.68\n",
      "Correlation between woody and herb cover for year 2012: -0.72\n",
      "Correlation between woody and herb cover for year 2013: -0.56\n",
      "Correlation between woody and herb cover for year 2014: -0.66\n",
      "Correlation between woody and herb cover for year 2015: -0.59\n",
      "Correlation between woody and herb cover for year 2016: -0.57\n",
      "Correlation between woody and herb cover for year 2017: -0.60\n",
      "Correlation between woody and herb cover for year 2018: -0.66\n",
      "Correlation between woody and herb cover for year 2019: -0.68\n",
      "Correlation between woody and herb cover for year 2020: -0.73\n",
      "Correlation between woody and herb cover for year 2021: -0.69\n",
      "Correlation between woody and herb cover for year 2022: -0.71\n",
      "Correlation between woody and herb cover for year 2023: -0.64\n"
     ]
    }
   ],
   "source": [
    "# Loop through the years\n",
    "for year in range(1986, 2024):\n",
    "    # Construct file paths for woody and herb cover\n",
    "    woody_file = f'woody_cover_{year}.tif'\n",
    "    herb_file = f'herb_cover_{year}.tif'\n",
    "    woody_path = os.path.join(rap_dir, woody_file)\n",
    "    herb_path = os.path.join(rap_dir, herb_file)\n",
    "\n",
    "    # Check if both files exist\n",
    "    if os.path.exists(woody_path) and os.path.exists(herb_path):\n",
    "        with rasterio.open(woody_path) as src_woody, rasterio.open(herb_path) as src_herb:\n",
    "            # Read the nodata value from the metadata\n",
    "            woody_nodata = src_woody.nodata\n",
    "            herb_nodata = src_herb.nodata\n",
    "\n",
    "            # Read data as arrays\n",
    "            woody_array = src_woody.read(1)\n",
    "            herb_array = src_herb.read(1)\n",
    "\n",
    "            # Mask out no-data values\n",
    "            woody_array_masked = np.ma.masked_where(woody_array == woody_nodata, woody_array)\n",
    "            herb_array_masked = np.ma.masked_where(herb_array == herb_nodata, herb_array)\n",
    "\n",
    "            # Flatten the arrays and remove masked values (no-data values)\n",
    "            woody_flat = woody_array_masked.compressed()\n",
    "            herb_flat = herb_array_masked.compressed()\n",
    "\n",
    "            # Calculate correlation if there is valid data\n",
    "            if woody_flat.size > 0 and herb_flat.size > 0:\n",
    "                correlation = np.corrcoef(woody_flat, herb_flat)[0, 1]\n",
    "                print(f\"Correlation between woody and herb cover for year {year}: {correlation:.2f}\")\n",
    "            else:\n",
    "                print(f\"No valid data for correlation calculation for year {year}\")\n",
    "    else:\n",
    "        print(f\"Missing data for year {year} (either woody or herb cover file is missing)\")"
   ]
  },
  {
   "cell_type": "code",
   "execution_count": null,
   "metadata": {},
   "outputs": [],
   "source": []
  }
 ],
 "metadata": {
  "kernelspec": {
   "display_name": "rap_callibration",
   "language": "python",
   "name": "python3"
  },
  "language_info": {
   "codemirror_mode": {
    "name": "ipython",
    "version": 3
   },
   "file_extension": ".py",
   "mimetype": "text/x-python",
   "name": "python",
   "nbconvert_exporter": "python",
   "pygments_lexer": "ipython3",
   "version": "3.10.16"
  }
 },
 "nbformat": 4,
 "nbformat_minor": 2
}

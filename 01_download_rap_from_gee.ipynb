{
 "cells": [
  {
   "cell_type": "code",
   "execution_count": 6,
   "metadata": {},
   "outputs": [
    {
     "name": "stdout",
     "output_type": "stream",
     "text": [
      "Earth Engine initialized successfully!\n"
     ]
    }
   ],
   "source": [
    "# Standard library imports\n",
    "import os\n",
    "import requests\n",
    "\n",
    "# Third party imports\n",
    "import ee\n",
    "import ee.mapclient\n",
    "import folium\n",
    "from google.oauth2 import service_account\n",
    "from osgeo import gdal\n",
    "from pyproj import Transformer\n",
    "\n",
    "from dotenv import load_dotenv\n",
    "\n",
    "#Specify the path to the service account key file (found in .env)\n",
    "load_dotenv()\n",
    "key_path = os.getenv('GEE_AUTH_KEY_PATH')\n",
    "\n",
    "# Define the correct scope for Earth Engine\n",
    "SCOPES = ['https://www.googleapis.com/auth/earthengine']\n",
    "\n",
    "# Load the service account credentials\n",
    "credentials = service_account.Credentials.from_service_account_file(\n",
    "    key_path, scopes=SCOPES\n",
    ")\n",
    "\n",
    "# Initialize Earth Engine\n",
    "ee.Initialize(credentials=credentials)\n",
    "print(\"Earth Engine initialized successfully!\")"
   ]
  },
  {
   "cell_type": "code",
   "execution_count": 7,
   "metadata": {},
   "outputs": [
    {
     "name": "stdout",
     "output_type": "stream",
     "text": [
      "Upper Left (LatLon): (-114.19134988481733, 46.830904023642205)\n",
      "Bottom Right (LatLon): (-113.86209345623392, 46.57803622659363)\n",
      "Final woodyCover bands: ['woody_cover_1986', 'woody_cover_1987', 'woody_cover_1988', 'woody_cover_1989', 'woody_cover_1990', 'woody_cover_1991', 'woody_cover_1992', 'woody_cover_1993', 'woody_cover_1994', 'woody_cover_1995', 'woody_cover_1996', 'woody_cover_1997', 'woody_cover_1998', 'woody_cover_1999', 'woody_cover_2000', 'woody_cover_2001', 'woody_cover_2002', 'woody_cover_2003', 'woody_cover_2004', 'woody_cover_2005', 'woody_cover_2006', 'woody_cover_2007', 'woody_cover_2008', 'woody_cover_2009', 'woody_cover_2010', 'woody_cover_2011', 'woody_cover_2012', 'woody_cover_2013', 'woody_cover_2014', 'woody_cover_2015', 'woody_cover_2016', 'woody_cover_2017', 'woody_cover_2018', 'woody_cover_2019', 'woody_cover_2020', 'woody_cover_2021', 'woody_cover_2022', 'woody_cover_2023']\n"
     ]
    }
   ],
   "source": [
    "# Define the bounding box in epsg 6514\n",
    "upper_left = [252500, 287500]\n",
    "bottom_right = [256000, 278000]\n",
    "\n",
    "buffer_amt = 1e4\n",
    "\n",
    "upper_left_buffered = [upper_left[0] - buffer_amt, upper_left[1] + buffer_amt]\n",
    "bottom_right_buffered = [bottom_right[0] + buffer_amt, bottom_right[1] - buffer_amt]\n",
    "\n",
    "# Create a transformer object to convert from EPSG:6514 to EPSG:4326\n",
    "transformer = Transformer.from_crs(\"EPSG:6514\", \"EPSG:4326\", always_xy=True)\n",
    "\n",
    "# Convert the coordinates\n",
    "upper_left_latlon = transformer.transform(upper_left_buffered[0], upper_left_buffered[1])\n",
    "bottom_right_latlon = transformer.transform(bottom_right_buffered[0], bottom_right_buffered[1])\n",
    "\n",
    "# Print the results\n",
    "print(\"Upper Left (LatLon):\", upper_left_latlon)\n",
    "print(\"Bottom Right (LatLon):\", bottom_right_latlon)\n",
    "\n",
    "# Define the bounding box in lat/lon (EPSG:4326)\n",
    "bounding_box = ee.Geometry.Polygon([\n",
    "    [upper_left_latlon,\n",
    "     [bottom_right_latlon[0], upper_left_latlon[1]],  # Upper-right corner\n",
    "     bottom_right_latlon,\n",
    "     [upper_left_latlon[0], bottom_right_latlon[1]],  # Lower-left corner\n",
    "     upper_left_latlon]  # Closing the polygon\n",
    "], proj='EPSG:4326')\n",
    "\n",
    "# Image collection path\n",
    "path_to_asset = 'projects/rap-data-365417/assets/vegetation-cover-v3'\n",
    "\n",
    "# Load the image collection\n",
    "image_collection = ee.ImageCollection(path_to_asset)\n",
    "\n",
    "available_years = [\n",
    "    1986, 1987, 1988, 1989, 1990, 1991, 1992, 1993, 1994, 1995,\n",
    "    1996, 1997, 1998, 1999, 2000, 2001, 2002, 2003, 2004, 2005,\n",
    "    2006, 2007, 2008, 2009, 2010, 2011, 2012, 2013, 2014, 2015,\n",
    "    2016, 2017, 2018, 2019, 2020, 2021, 2022, 2023\n",
    "]\n",
    "\n",
    "# Initialize woodyCover as None\n",
    "woodyCover = None\n",
    "\n",
    "# Process each year in the list\n",
    "for year in available_years:\n",
    "    # Filter images for the specific year\n",
    "    yearly_image = image_collection.filter(\n",
    "        ee.Filter.calendarRange(year, year, 'year')\n",
    "    ).median().clip(bounding_box)\n",
    "\n",
    "    # Calculate woody cover (tree + shrub cover) - Corrected band selection\n",
    "    treeCover = yearly_image.select('TRE').rename(f'tree_cover_{year}')\n",
    "    shrubCover = yearly_image.select('SHR').rename(f'shrub_cover_{year}')\n",
    "    woodyCoverYear = treeCover.add(shrubCover).rename(f'woody_cover_{year}')\n",
    "\n",
    "    # Add the yearly woody cover as a new band - Handling the first year differently\n",
    "    if woodyCover is None:\n",
    "        woodyCover = woodyCoverYear\n",
    "    else:\n",
    "        woodyCover = woodyCover.addBands(woodyCoverYear)\n",
    "\n",
    "# Check the final woodyCover image bands\n",
    "print(\"Final woodyCover bands:\", woodyCover.bandNames().getInfo())"
   ]
  },
  {
   "cell_type": "code",
   "execution_count": 8,
   "metadata": {},
   "outputs": [
    {
     "data": {
      "text/html": [
       "<div style=\"width:100%;\"><div style=\"position:relative;width:100%;height:0;padding-bottom:60%;\"><span style=\"color:#565656\">Make this Notebook Trusted to load map: File -> Trust Notebook</span><iframe srcdoc=\"&lt;!DOCTYPE html&gt;\n",
       "&lt;html&gt;\n",
       "&lt;head&gt;\n",
       "    \n",
       "    &lt;meta http-equiv=&quot;content-type&quot; content=&quot;text/html; charset=UTF-8&quot; /&gt;\n",
       "    \n",
       "        &lt;script&gt;\n",
       "            L_NO_TOUCH = false;\n",
       "            L_DISABLE_3D = false;\n",
       "        &lt;/script&gt;\n",
       "    \n",
       "    &lt;style&gt;html, body {width: 100%;height: 100%;margin: 0;padding: 0;}&lt;/style&gt;\n",
       "    &lt;style&gt;#map {position:absolute;top:0;bottom:0;right:0;left:0;}&lt;/style&gt;\n",
       "    &lt;script src=&quot;https://cdn.jsdelivr.net/npm/leaflet@1.9.3/dist/leaflet.js&quot;&gt;&lt;/script&gt;\n",
       "    &lt;script src=&quot;https://code.jquery.com/jquery-3.7.1.min.js&quot;&gt;&lt;/script&gt;\n",
       "    &lt;script src=&quot;https://cdn.jsdelivr.net/npm/bootstrap@5.2.2/dist/js/bootstrap.bundle.min.js&quot;&gt;&lt;/script&gt;\n",
       "    &lt;script src=&quot;https://cdnjs.cloudflare.com/ajax/libs/Leaflet.awesome-markers/2.0.2/leaflet.awesome-markers.js&quot;&gt;&lt;/script&gt;\n",
       "    &lt;link rel=&quot;stylesheet&quot; href=&quot;https://cdn.jsdelivr.net/npm/leaflet@1.9.3/dist/leaflet.css&quot;/&gt;\n",
       "    &lt;link rel=&quot;stylesheet&quot; href=&quot;https://cdn.jsdelivr.net/npm/bootstrap@5.2.2/dist/css/bootstrap.min.css&quot;/&gt;\n",
       "    &lt;link rel=&quot;stylesheet&quot; href=&quot;https://netdna.bootstrapcdn.com/bootstrap/3.0.0/css/bootstrap-glyphicons.css&quot;/&gt;\n",
       "    &lt;link rel=&quot;stylesheet&quot; href=&quot;https://cdn.jsdelivr.net/npm/@fortawesome/fontawesome-free@6.2.0/css/all.min.css&quot;/&gt;\n",
       "    &lt;link rel=&quot;stylesheet&quot; href=&quot;https://cdnjs.cloudflare.com/ajax/libs/Leaflet.awesome-markers/2.0.2/leaflet.awesome-markers.css&quot;/&gt;\n",
       "    &lt;link rel=&quot;stylesheet&quot; href=&quot;https://cdn.jsdelivr.net/gh/python-visualization/folium/folium/templates/leaflet.awesome.rotate.min.css&quot;/&gt;\n",
       "    \n",
       "            &lt;meta name=&quot;viewport&quot; content=&quot;width=device-width,\n",
       "                initial-scale=1.0, maximum-scale=1.0, user-scalable=no&quot; /&gt;\n",
       "            &lt;style&gt;\n",
       "                #map_49d33ef1f207687a7f8dec158d42c666 {\n",
       "                    position: relative;\n",
       "                    width: 100.0%;\n",
       "                    height: 100.0%;\n",
       "                    left: 0.0%;\n",
       "                    top: 0.0%;\n",
       "                }\n",
       "                .leaflet-container { font-size: 1rem; }\n",
       "            &lt;/style&gt;\n",
       "        \n",
       "&lt;/head&gt;\n",
       "&lt;body&gt;\n",
       "    \n",
       "    \n",
       "            &lt;div class=&quot;folium-map&quot; id=&quot;map_49d33ef1f207687a7f8dec158d42c666&quot; &gt;&lt;/div&gt;\n",
       "        \n",
       "&lt;/body&gt;\n",
       "&lt;script&gt;\n",
       "    \n",
       "    \n",
       "            var map_49d33ef1f207687a7f8dec158d42c666 = L.map(\n",
       "                &quot;map_49d33ef1f207687a7f8dec158d42c666&quot;,\n",
       "                {\n",
       "                    center: [46.70448946701673, -114.0267216705261],\n",
       "                    crs: L.CRS.EPSG3857,\n",
       "                    ...{\n",
       "  &quot;zoom&quot;: 12,\n",
       "  &quot;zoomControl&quot;: true,\n",
       "  &quot;preferCanvas&quot;: false,\n",
       "}\n",
       "\n",
       "                }\n",
       "            );\n",
       "\n",
       "            \n",
       "\n",
       "        \n",
       "    \n",
       "            var tile_layer_80dce05902880a58b6741181235150a2 = L.tileLayer(\n",
       "                &quot;https://tile.openstreetmap.org/{z}/{x}/{y}.png&quot;,\n",
       "                {\n",
       "  &quot;minZoom&quot;: 0,\n",
       "  &quot;maxZoom&quot;: 19,\n",
       "  &quot;maxNativeZoom&quot;: 19,\n",
       "  &quot;noWrap&quot;: false,\n",
       "  &quot;attribution&quot;: &quot;\\u0026copy; \\u003ca href=\\&quot;https://www.openstreetmap.org/copyright\\&quot;\\u003eOpenStreetMap\\u003c/a\\u003e contributors&quot;,\n",
       "  &quot;subdomains&quot;: &quot;abc&quot;,\n",
       "  &quot;detectRetina&quot;: false,\n",
       "  &quot;tms&quot;: false,\n",
       "  &quot;opacity&quot;: 1,\n",
       "}\n",
       "\n",
       "            );\n",
       "        \n",
       "    \n",
       "            tile_layer_80dce05902880a58b6741181235150a2.addTo(map_49d33ef1f207687a7f8dec158d42c666);\n",
       "        \n",
       "    \n",
       "            var tile_layer_d3f40e99b6aacf99b94f08280a336061 = L.tileLayer(\n",
       "                &quot;https://earthengine.googleapis.com/v1/projects/earthengine-legacy/maps/9e50e0ce88b2a6e9de9f948368c22c5a-0f616fddd4a0ba31748fa87179e466c8/tiles/{z}/{x}/{y}&quot;,\n",
       "                {\n",
       "  &quot;minZoom&quot;: 0,\n",
       "  &quot;maxZoom&quot;: 18,\n",
       "  &quot;maxNativeZoom&quot;: 18,\n",
       "  &quot;noWrap&quot;: false,\n",
       "  &quot;attribution&quot;: &quot;Map Data \\u0026copy; \\u003ca href=\\&quot;https://earthengine.google.com/\\&quot;\\u003eGoogle Earth Engine\\u003c/a\\u003e&quot;,\n",
       "  &quot;subdomains&quot;: &quot;abc&quot;,\n",
       "  &quot;detectRetina&quot;: false,\n",
       "  &quot;tms&quot;: false,\n",
       "  &quot;opacity&quot;: 1,\n",
       "}\n",
       "\n",
       "            );\n",
       "        \n",
       "    \n",
       "            tile_layer_d3f40e99b6aacf99b94f08280a336061.addTo(map_49d33ef1f207687a7f8dec158d42c666);\n",
       "        \n",
       "    \n",
       "            var tile_layer_ac0bc4c8365ce66d40a705ad4a2c20b5 = L.tileLayer(\n",
       "                &quot;https://earthengine.googleapis.com/v1/projects/earthengine-legacy/maps/62efebd5745280d7961e441b07e30364-87baeb08c517232035fce76fc390026e/tiles/{z}/{x}/{y}&quot;,\n",
       "                {\n",
       "  &quot;minZoom&quot;: 0,\n",
       "  &quot;maxZoom&quot;: 18,\n",
       "  &quot;maxNativeZoom&quot;: 18,\n",
       "  &quot;noWrap&quot;: false,\n",
       "  &quot;attribution&quot;: &quot;Map Data \\u0026copy; \\u003ca href=\\&quot;https://earthengine.google.com/\\&quot;\\u003eGoogle Earth Engine\\u003c/a\\u003e&quot;,\n",
       "  &quot;subdomains&quot;: &quot;abc&quot;,\n",
       "  &quot;detectRetina&quot;: false,\n",
       "  &quot;tms&quot;: false,\n",
       "  &quot;opacity&quot;: 1,\n",
       "}\n",
       "\n",
       "            );\n",
       "        \n",
       "    \n",
       "            tile_layer_ac0bc4c8365ce66d40a705ad4a2c20b5.addTo(map_49d33ef1f207687a7f8dec158d42c666);\n",
       "        \n",
       "    \n",
       "            var layer_control_21fc71fd9b7b9821882944f881a5673b_layers = {\n",
       "                base_layers : {\n",
       "                    &quot;openstreetmap&quot; : tile_layer_80dce05902880a58b6741181235150a2,\n",
       "                },\n",
       "                overlays :  {\n",
       "                    &quot;woody_cover_1986&quot; : tile_layer_d3f40e99b6aacf99b94f08280a336061,\n",
       "                    &quot;woody_cover_2023&quot; : tile_layer_ac0bc4c8365ce66d40a705ad4a2c20b5,\n",
       "                },\n",
       "            };\n",
       "            let layer_control_21fc71fd9b7b9821882944f881a5673b = L.control.layers(\n",
       "                layer_control_21fc71fd9b7b9821882944f881a5673b_layers.base_layers,\n",
       "                layer_control_21fc71fd9b7b9821882944f881a5673b_layers.overlays,\n",
       "                {\n",
       "  &quot;position&quot;: &quot;topright&quot;,\n",
       "  &quot;collapsed&quot;: true,\n",
       "  &quot;autoZIndex&quot;: true,\n",
       "}\n",
       "            ).addTo(map_49d33ef1f207687a7f8dec158d42c666);\n",
       "\n",
       "        \n",
       "&lt;/script&gt;\n",
       "&lt;/html&gt;\" style=\"position:absolute;width:100%;height:100%;left:0;top:0;border:none !important;\" allowfullscreen webkitallowfullscreen mozallowfullscreen></iframe></div></div>"
      ],
      "text/plain": [
       "<folium.folium.Map at 0x104ab4790>"
      ]
     },
     "metadata": {},
     "output_type": "display_data"
    }
   ],
   "source": [
    "\n",
    "# Define visualization parameters\n",
    "vis_params = {'min': 0, 'max': 100, 'palette': ['440154', '482878', '3E4A89', '31688E', '26828E', '1F9E89', '35B779', '6DCD59', 'B4DE2C', 'FDE725']}\n",
    "\n",
    "# Create a folium map object.\n",
    "centroid = bounding_box.centroid()\n",
    "centroid_coords = centroid.coordinates().getInfo()\n",
    "m = folium.Map(location=[centroid_coords[1], centroid_coords[0]], zoom_start=12)\n",
    "\n",
    "# List of years to display\n",
    "years_to_display = [1986, 2023]\n",
    "\n",
    "for year in years_to_display:\n",
    "    # Get the band name for the current year\n",
    "    band_name = f'woody_cover_{year}'\n",
    "\n",
    "    # Check if the band exists\n",
    "    if band_name in woodyCover.bandNames().getInfo():\n",
    "        # Select the woody cover band for the current year\n",
    "        woodyCover_year = woodyCover.select(band_name)\n",
    "\n",
    "        # Add the image layer to the map\n",
    "        map_id_dict = woodyCover_year.getMapId(vis_params)\n",
    "        folium.TileLayer(\n",
    "            tiles=map_id_dict['tile_fetcher'].url_format,\n",
    "            attr='Map Data &copy; <a href=\"https://earthengine.google.com/\">Google Earth Engine</a>',\n",
    "            overlay=True,\n",
    "            name=f'woody_cover_{year}',\n",
    "        ).add_to(m)\n",
    "    else:\n",
    "        print(f\"Band '{band_name}' not found in woodyCover.\")\n",
    "\n",
    "# Add a layer control panel to the map.\n",
    "m.add_child(folium.LayerControl())\n",
    "\n",
    "# Display the map\n",
    "display(m)"
   ]
  },
  {
   "cell_type": "code",
   "execution_count": 13,
   "metadata": {},
   "outputs": [
    {
     "name": "stdout",
     "output_type": "stream",
     "text": [
      "Downloaded file data/raster/rap/woody_cover_1986_temp.tif\n"
     ]
    },
    {
     "name": "stderr",
     "output_type": "stream",
     "text": [
      "Warning 1: TIFFWriteDirectorySec:Creating TIFF with legacy Deflate codec identifier, COMPRESSION_ADOBE_DEFLATE is more widely supported\n"
     ]
    },
    {
     "name": "stdout",
     "output_type": "stream",
     "text": [
      "Downloaded file data/raster/rap/woody_cover_1987_temp.tif\n"
     ]
    },
    {
     "name": "stderr",
     "output_type": "stream",
     "text": [
      "Warning 1: TIFFWriteDirectorySec:Creating TIFF with legacy Deflate codec identifier, COMPRESSION_ADOBE_DEFLATE is more widely supported\n"
     ]
    },
    {
     "name": "stdout",
     "output_type": "stream",
     "text": [
      "Downloaded file data/raster/rap/woody_cover_1988_temp.tif\n"
     ]
    },
    {
     "name": "stderr",
     "output_type": "stream",
     "text": [
      "Warning 1: TIFFWriteDirectorySec:Creating TIFF with legacy Deflate codec identifier, COMPRESSION_ADOBE_DEFLATE is more widely supported\n"
     ]
    },
    {
     "name": "stdout",
     "output_type": "stream",
     "text": [
      "Downloaded file data/raster/rap/woody_cover_1989_temp.tif\n"
     ]
    },
    {
     "name": "stderr",
     "output_type": "stream",
     "text": [
      "Warning 1: TIFFWriteDirectorySec:Creating TIFF with legacy Deflate codec identifier, COMPRESSION_ADOBE_DEFLATE is more widely supported\n"
     ]
    },
    {
     "name": "stdout",
     "output_type": "stream",
     "text": [
      "Downloaded file data/raster/rap/woody_cover_1990_temp.tif\n"
     ]
    },
    {
     "name": "stderr",
     "output_type": "stream",
     "text": [
      "Warning 1: TIFFWriteDirectorySec:Creating TIFF with legacy Deflate codec identifier, COMPRESSION_ADOBE_DEFLATE is more widely supported\n"
     ]
    },
    {
     "name": "stdout",
     "output_type": "stream",
     "text": [
      "Downloaded file data/raster/rap/woody_cover_1991_temp.tif\n"
     ]
    },
    {
     "name": "stderr",
     "output_type": "stream",
     "text": [
      "Warning 1: TIFFWriteDirectorySec:Creating TIFF with legacy Deflate codec identifier, COMPRESSION_ADOBE_DEFLATE is more widely supported\n"
     ]
    },
    {
     "name": "stdout",
     "output_type": "stream",
     "text": [
      "Downloaded file data/raster/rap/woody_cover_1992_temp.tif\n"
     ]
    },
    {
     "name": "stderr",
     "output_type": "stream",
     "text": [
      "Warning 1: TIFFWriteDirectorySec:Creating TIFF with legacy Deflate codec identifier, COMPRESSION_ADOBE_DEFLATE is more widely supported\n"
     ]
    },
    {
     "name": "stdout",
     "output_type": "stream",
     "text": [
      "Downloaded file data/raster/rap/woody_cover_1993_temp.tif\n"
     ]
    },
    {
     "name": "stderr",
     "output_type": "stream",
     "text": [
      "Warning 1: TIFFWriteDirectorySec:Creating TIFF with legacy Deflate codec identifier, COMPRESSION_ADOBE_DEFLATE is more widely supported\n"
     ]
    },
    {
     "name": "stdout",
     "output_type": "stream",
     "text": [
      "Downloaded file data/raster/rap/woody_cover_1994_temp.tif\n"
     ]
    },
    {
     "name": "stderr",
     "output_type": "stream",
     "text": [
      "Warning 1: TIFFWriteDirectorySec:Creating TIFF with legacy Deflate codec identifier, COMPRESSION_ADOBE_DEFLATE is more widely supported\n"
     ]
    },
    {
     "name": "stdout",
     "output_type": "stream",
     "text": [
      "Downloaded file data/raster/rap/woody_cover_1995_temp.tif\n"
     ]
    },
    {
     "name": "stderr",
     "output_type": "stream",
     "text": [
      "Warning 1: TIFFWriteDirectorySec:Creating TIFF with legacy Deflate codec identifier, COMPRESSION_ADOBE_DEFLATE is more widely supported\n"
     ]
    },
    {
     "name": "stdout",
     "output_type": "stream",
     "text": [
      "Downloaded file data/raster/rap/woody_cover_1996_temp.tif\n"
     ]
    },
    {
     "name": "stderr",
     "output_type": "stream",
     "text": [
      "Warning 1: TIFFWriteDirectorySec:Creating TIFF with legacy Deflate codec identifier, COMPRESSION_ADOBE_DEFLATE is more widely supported\n"
     ]
    },
    {
     "name": "stdout",
     "output_type": "stream",
     "text": [
      "Downloaded file data/raster/rap/woody_cover_1997_temp.tif\n"
     ]
    },
    {
     "name": "stderr",
     "output_type": "stream",
     "text": [
      "Warning 1: TIFFWriteDirectorySec:Creating TIFF with legacy Deflate codec identifier, COMPRESSION_ADOBE_DEFLATE is more widely supported\n"
     ]
    },
    {
     "name": "stdout",
     "output_type": "stream",
     "text": [
      "Downloaded file data/raster/rap/woody_cover_1998_temp.tif\n"
     ]
    },
    {
     "name": "stderr",
     "output_type": "stream",
     "text": [
      "Warning 1: TIFFWriteDirectorySec:Creating TIFF with legacy Deflate codec identifier, COMPRESSION_ADOBE_DEFLATE is more widely supported\n"
     ]
    },
    {
     "name": "stdout",
     "output_type": "stream",
     "text": [
      "Downloaded file data/raster/rap/woody_cover_1999_temp.tif\n"
     ]
    },
    {
     "name": "stderr",
     "output_type": "stream",
     "text": [
      "Warning 1: TIFFWriteDirectorySec:Creating TIFF with legacy Deflate codec identifier, COMPRESSION_ADOBE_DEFLATE is more widely supported\n"
     ]
    },
    {
     "name": "stdout",
     "output_type": "stream",
     "text": [
      "Downloaded file data/raster/rap/woody_cover_2000_temp.tif\n"
     ]
    },
    {
     "name": "stderr",
     "output_type": "stream",
     "text": [
      "Warning 1: TIFFWriteDirectorySec:Creating TIFF with legacy Deflate codec identifier, COMPRESSION_ADOBE_DEFLATE is more widely supported\n"
     ]
    },
    {
     "name": "stdout",
     "output_type": "stream",
     "text": [
      "Downloaded file data/raster/rap/woody_cover_2001_temp.tif\n"
     ]
    },
    {
     "name": "stderr",
     "output_type": "stream",
     "text": [
      "Warning 1: TIFFWriteDirectorySec:Creating TIFF with legacy Deflate codec identifier, COMPRESSION_ADOBE_DEFLATE is more widely supported\n"
     ]
    },
    {
     "name": "stdout",
     "output_type": "stream",
     "text": [
      "Downloaded file data/raster/rap/woody_cover_2002_temp.tif\n"
     ]
    },
    {
     "name": "stderr",
     "output_type": "stream",
     "text": [
      "Warning 1: TIFFWriteDirectorySec:Creating TIFF with legacy Deflate codec identifier, COMPRESSION_ADOBE_DEFLATE is more widely supported\n"
     ]
    },
    {
     "name": "stdout",
     "output_type": "stream",
     "text": [
      "Downloaded file data/raster/rap/woody_cover_2003_temp.tif\n"
     ]
    },
    {
     "name": "stderr",
     "output_type": "stream",
     "text": [
      "Warning 1: TIFFWriteDirectorySec:Creating TIFF with legacy Deflate codec identifier, COMPRESSION_ADOBE_DEFLATE is more widely supported\n"
     ]
    },
    {
     "name": "stdout",
     "output_type": "stream",
     "text": [
      "Downloaded file data/raster/rap/woody_cover_2004_temp.tif\n"
     ]
    },
    {
     "name": "stderr",
     "output_type": "stream",
     "text": [
      "Warning 1: TIFFWriteDirectorySec:Creating TIFF with legacy Deflate codec identifier, COMPRESSION_ADOBE_DEFLATE is more widely supported\n"
     ]
    },
    {
     "name": "stdout",
     "output_type": "stream",
     "text": [
      "Downloaded file data/raster/rap/woody_cover_2005_temp.tif\n"
     ]
    },
    {
     "name": "stderr",
     "output_type": "stream",
     "text": [
      "Warning 1: TIFFWriteDirectorySec:Creating TIFF with legacy Deflate codec identifier, COMPRESSION_ADOBE_DEFLATE is more widely supported\n"
     ]
    },
    {
     "name": "stdout",
     "output_type": "stream",
     "text": [
      "Downloaded file data/raster/rap/woody_cover_2006_temp.tif\n"
     ]
    },
    {
     "name": "stderr",
     "output_type": "stream",
     "text": [
      "Warning 1: TIFFWriteDirectorySec:Creating TIFF with legacy Deflate codec identifier, COMPRESSION_ADOBE_DEFLATE is more widely supported\n"
     ]
    },
    {
     "name": "stdout",
     "output_type": "stream",
     "text": [
      "Downloaded file data/raster/rap/woody_cover_2007_temp.tif\n"
     ]
    },
    {
     "name": "stderr",
     "output_type": "stream",
     "text": [
      "Warning 1: TIFFWriteDirectorySec:Creating TIFF with legacy Deflate codec identifier, COMPRESSION_ADOBE_DEFLATE is more widely supported\n"
     ]
    },
    {
     "name": "stdout",
     "output_type": "stream",
     "text": [
      "Downloaded file data/raster/rap/woody_cover_2008_temp.tif\n"
     ]
    },
    {
     "name": "stderr",
     "output_type": "stream",
     "text": [
      "Warning 1: TIFFWriteDirectorySec:Creating TIFF with legacy Deflate codec identifier, COMPRESSION_ADOBE_DEFLATE is more widely supported\n"
     ]
    },
    {
     "name": "stdout",
     "output_type": "stream",
     "text": [
      "Downloaded file data/raster/rap/woody_cover_2009_temp.tif\n"
     ]
    },
    {
     "name": "stderr",
     "output_type": "stream",
     "text": [
      "Warning 1: TIFFWriteDirectorySec:Creating TIFF with legacy Deflate codec identifier, COMPRESSION_ADOBE_DEFLATE is more widely supported\n"
     ]
    },
    {
     "name": "stdout",
     "output_type": "stream",
     "text": [
      "Downloaded file data/raster/rap/woody_cover_2010_temp.tif\n"
     ]
    },
    {
     "name": "stderr",
     "output_type": "stream",
     "text": [
      "Warning 1: TIFFWriteDirectorySec:Creating TIFF with legacy Deflate codec identifier, COMPRESSION_ADOBE_DEFLATE is more widely supported\n"
     ]
    },
    {
     "name": "stdout",
     "output_type": "stream",
     "text": [
      "Downloaded file data/raster/rap/woody_cover_2011_temp.tif\n"
     ]
    },
    {
     "name": "stderr",
     "output_type": "stream",
     "text": [
      "Warning 1: TIFFWriteDirectorySec:Creating TIFF with legacy Deflate codec identifier, COMPRESSION_ADOBE_DEFLATE is more widely supported\n"
     ]
    },
    {
     "name": "stdout",
     "output_type": "stream",
     "text": [
      "Downloaded file data/raster/rap/woody_cover_2012_temp.tif\n"
     ]
    },
    {
     "name": "stderr",
     "output_type": "stream",
     "text": [
      "Warning 1: TIFFWriteDirectorySec:Creating TIFF with legacy Deflate codec identifier, COMPRESSION_ADOBE_DEFLATE is more widely supported\n"
     ]
    },
    {
     "name": "stdout",
     "output_type": "stream",
     "text": [
      "Downloaded file data/raster/rap/woody_cover_2013_temp.tif\n"
     ]
    },
    {
     "name": "stderr",
     "output_type": "stream",
     "text": [
      "Warning 1: TIFFWriteDirectorySec:Creating TIFF with legacy Deflate codec identifier, COMPRESSION_ADOBE_DEFLATE is more widely supported\n"
     ]
    },
    {
     "name": "stdout",
     "output_type": "stream",
     "text": [
      "Downloaded file data/raster/rap/woody_cover_2014_temp.tif\n"
     ]
    },
    {
     "name": "stderr",
     "output_type": "stream",
     "text": [
      "Warning 1: TIFFWriteDirectorySec:Creating TIFF with legacy Deflate codec identifier, COMPRESSION_ADOBE_DEFLATE is more widely supported\n"
     ]
    },
    {
     "name": "stdout",
     "output_type": "stream",
     "text": [
      "Downloaded file data/raster/rap/woody_cover_2015_temp.tif\n"
     ]
    },
    {
     "name": "stderr",
     "output_type": "stream",
     "text": [
      "Warning 1: TIFFWriteDirectorySec:Creating TIFF with legacy Deflate codec identifier, COMPRESSION_ADOBE_DEFLATE is more widely supported\n"
     ]
    },
    {
     "name": "stdout",
     "output_type": "stream",
     "text": [
      "Downloaded file data/raster/rap/woody_cover_2016_temp.tif\n"
     ]
    },
    {
     "name": "stderr",
     "output_type": "stream",
     "text": [
      "Warning 1: TIFFWriteDirectorySec:Creating TIFF with legacy Deflate codec identifier, COMPRESSION_ADOBE_DEFLATE is more widely supported\n"
     ]
    },
    {
     "name": "stdout",
     "output_type": "stream",
     "text": [
      "Downloaded file data/raster/rap/woody_cover_2017_temp.tif\n"
     ]
    },
    {
     "name": "stderr",
     "output_type": "stream",
     "text": [
      "Warning 1: TIFFWriteDirectorySec:Creating TIFF with legacy Deflate codec identifier, COMPRESSION_ADOBE_DEFLATE is more widely supported\n"
     ]
    },
    {
     "name": "stdout",
     "output_type": "stream",
     "text": [
      "Downloaded file data/raster/rap/woody_cover_2018_temp.tif\n"
     ]
    },
    {
     "name": "stderr",
     "output_type": "stream",
     "text": [
      "Warning 1: TIFFWriteDirectorySec:Creating TIFF with legacy Deflate codec identifier, COMPRESSION_ADOBE_DEFLATE is more widely supported\n"
     ]
    },
    {
     "name": "stdout",
     "output_type": "stream",
     "text": [
      "Downloaded file data/raster/rap/woody_cover_2019_temp.tif\n"
     ]
    },
    {
     "name": "stderr",
     "output_type": "stream",
     "text": [
      "Warning 1: TIFFWriteDirectorySec:Creating TIFF with legacy Deflate codec identifier, COMPRESSION_ADOBE_DEFLATE is more widely supported\n"
     ]
    },
    {
     "name": "stdout",
     "output_type": "stream",
     "text": [
      "Downloaded file data/raster/rap/woody_cover_2020_temp.tif\n"
     ]
    },
    {
     "name": "stderr",
     "output_type": "stream",
     "text": [
      "Warning 1: TIFFWriteDirectorySec:Creating TIFF with legacy Deflate codec identifier, COMPRESSION_ADOBE_DEFLATE is more widely supported\n"
     ]
    },
    {
     "name": "stdout",
     "output_type": "stream",
     "text": [
      "Downloaded file data/raster/rap/woody_cover_2021_temp.tif\n"
     ]
    },
    {
     "name": "stderr",
     "output_type": "stream",
     "text": [
      "Warning 1: TIFFWriteDirectorySec:Creating TIFF with legacy Deflate codec identifier, COMPRESSION_ADOBE_DEFLATE is more widely supported\n"
     ]
    },
    {
     "name": "stdout",
     "output_type": "stream",
     "text": [
      "Downloaded file data/raster/rap/woody_cover_2022_temp.tif\n"
     ]
    },
    {
     "name": "stderr",
     "output_type": "stream",
     "text": [
      "Warning 1: TIFFWriteDirectorySec:Creating TIFF with legacy Deflate codec identifier, COMPRESSION_ADOBE_DEFLATE is more widely supported\n"
     ]
    },
    {
     "name": "stdout",
     "output_type": "stream",
     "text": [
      "Downloaded file data/raster/rap/woody_cover_2023_temp.tif\n"
     ]
    },
    {
     "name": "stderr",
     "output_type": "stream",
     "text": [
      "Warning 1: TIFFWriteDirectorySec:Creating TIFF with legacy Deflate codec identifier, COMPRESSION_ADOBE_DEFLATE is more widely supported\n"
     ]
    }
   ],
   "source": [
    "rap_dir = 'data/raster/rap'\n",
    "os.makedirs(rap_dir, exist_ok=True)\n",
    "\n",
    "# Set the GTIFF_SRS_SOURCE configuration option to EPSG\n",
    "gdal.SetConfigOption('GTIFF_SRS_SOURCE', 'EPSG')\n",
    "\n",
    "# Assuming 'woodyCover' is your ee.Image and 'bounding_box' is your ee.Geometry\n",
    "\n",
    "for band_name in woodyCover.bandNames().getInfo():\n",
    "    # Choose a value that doesn't exist in your data and doesn't have meaning in the context of your data.\n",
    "    remapped_image = woodyCover.select(band_name).unmask(255)\n",
    "\n",
    "    # Set an explicit \"no data\" value to null in the download URL parameters\n",
    "    url = remapped_image.getDownloadURL({\n",
    "        'scale': 30,\n",
    "        'crs': 'EPSG:6514',\n",
    "        'region': bounding_box,\n",
    "        'format': 'GeoTIFF',\n",
    "        'formatOptions': {\n",
    "            'cloudOptimized': True,\n",
    "            'noData': 255\n",
    "        }\n",
    "    })\n",
    "\n",
    "    response = requests.get(url)\n",
    "    \n",
    "    # Create output file path\n",
    "    output_file = os.path.join(rap_dir, f\"{band_name}_temp.tif\")\n",
    "    \n",
    "    # Write response content directly to final file\n",
    "    with open(output_file, 'wb') as f:\n",
    "        f.write(response.content)\n",
    "    \n",
    "    print(f\"Downloaded file {output_file}\")\n",
    "\n",
    "    # Set nodata value to 255\n",
    "    dataset = gdal.Open(output_file, gdal.GA_Update)\n",
    "    band = dataset.GetRasterBand(1)\n",
    "    band.SetNoDataValue(255)\n",
    "    dataset = None"
   ]
  },
  {
   "cell_type": "code",
   "execution_count": 14,
   "metadata": {},
   "outputs": [
    {
     "name": "stdout",
     "output_type": "stream",
     "text": [
      "Cropped file data/raster/rap/woody_cover_1986_temp.tif\n",
      "Cropped file data/raster/rap/woody_cover_1987_temp.tif\n",
      "Cropped file data/raster/rap/woody_cover_1988_temp.tif\n",
      "Cropped file data/raster/rap/woody_cover_1989_temp.tif\n",
      "Cropped file data/raster/rap/woody_cover_1990_temp.tif\n",
      "Cropped file data/raster/rap/woody_cover_1991_temp.tif\n",
      "Cropped file data/raster/rap/woody_cover_1992_temp.tif\n",
      "Cropped file data/raster/rap/woody_cover_1993_temp.tif\n",
      "Cropped file data/raster/rap/woody_cover_1994_temp.tif\n",
      "Cropped file data/raster/rap/woody_cover_1995_temp.tif\n",
      "Cropped file data/raster/rap/woody_cover_1996_temp.tif\n",
      "Cropped file data/raster/rap/woody_cover_1997_temp.tif\n",
      "Cropped file data/raster/rap/woody_cover_1998_temp.tif\n",
      "Cropped file data/raster/rap/woody_cover_1999_temp.tif\n",
      "Cropped file data/raster/rap/woody_cover_2000_temp.tif\n",
      "Cropped file data/raster/rap/woody_cover_2001_temp.tif\n",
      "Cropped file data/raster/rap/woody_cover_2002_temp.tif\n",
      "Cropped file data/raster/rap/woody_cover_2003_temp.tif\n",
      "Cropped file data/raster/rap/woody_cover_2004_temp.tif\n",
      "Cropped file data/raster/rap/woody_cover_2005_temp.tif\n",
      "Cropped file data/raster/rap/woody_cover_2006_temp.tif\n",
      "Cropped file data/raster/rap/woody_cover_2007_temp.tif\n",
      "Cropped file data/raster/rap/woody_cover_2008_temp.tif\n",
      "Cropped file data/raster/rap/woody_cover_2009_temp.tif\n",
      "Cropped file data/raster/rap/woody_cover_2010_temp.tif\n",
      "Cropped file data/raster/rap/woody_cover_2011_temp.tif\n",
      "Cropped file data/raster/rap/woody_cover_2012_temp.tif\n",
      "Cropped file data/raster/rap/woody_cover_2013_temp.tif\n",
      "Cropped file data/raster/rap/woody_cover_2014_temp.tif\n",
      "Cropped file data/raster/rap/woody_cover_2015_temp.tif\n",
      "Cropped file data/raster/rap/woody_cover_2016_temp.tif\n",
      "Cropped file data/raster/rap/woody_cover_2017_temp.tif\n",
      "Cropped file data/raster/rap/woody_cover_2018_temp.tif\n",
      "Cropped file data/raster/rap/woody_cover_2019_temp.tif\n",
      "Cropped file data/raster/rap/woody_cover_2020_temp.tif\n",
      "Cropped file data/raster/rap/woody_cover_2021_temp.tif\n",
      "Cropped file data/raster/rap/woody_cover_2022_temp.tif\n",
      "Cropped file data/raster/rap/woody_cover_2023_temp.tif\n"
     ]
    }
   ],
   "source": [
    "for band_name in woodyCover.bandNames().getInfo():\n",
    "    input_file = os.path.join(rap_dir, f\"{band_name}_temp.tif\")\n",
    "    output_file = input_file.replace(\"_temp\", \"\")\n",
    "    # Use gdal_translate to crop the image in place\n",
    "    gdal.Translate(output_file, input_file, projWin=[upper_left[0], upper_left[1], bottom_right[0], bottom_right[1]])\n",
    "    \n",
    "    # Remove original and rename temp file\n",
    "    os.remove(input_file)\n",
    "    \n",
    "    print(f\"Cropped file {input_file}\")"
   ]
  },
  {
   "cell_type": "code",
   "execution_count": null,
   "metadata": {},
   "outputs": [],
   "source": []
  }
 ],
 "metadata": {
  "kernelspec": {
   "display_name": "rap_callibration",
   "language": "python",
   "name": "python3"
  },
  "language_info": {
   "codemirror_mode": {
    "name": "ipython",
    "version": 3
   },
   "file_extension": ".py",
   "mimetype": "text/x-python",
   "name": "python",
   "nbconvert_exporter": "python",
   "pygments_lexer": "ipython3",
   "version": "3.10.16"
  }
 },
 "nbformat": 4,
 "nbformat_minor": 2
}

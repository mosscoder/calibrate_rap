{
 "cells": [
  {
   "cell_type": "code",
   "execution_count": 1,
   "metadata": {},
   "outputs": [],
   "source": [
    "import rasterio\n",
    "import lightgbm as lgb\n",
    "import pandas as pd\n",
    "import geopandas as gpd\n",
    "import numpy as np\n",
    "import matplotlib\n",
    "import matplotlib.pyplot as plt"
   ]
  },
  {
   "cell_type": "code",
   "execution_count": null,
   "metadata": {},
   "outputs": [],
   "source": [
    "#lidar-based target data\n",
    "lidar_path = '/Users/kdoherty/calibrate_rap/data/2019_lidar_cover.tif'\n",
    "\n",
    "#rap data (predictor)\n",
    "rap_path = 'data/raster/rap/woody_cover_2019.tif'\n",
    "\n",
    "#terrain predictors\n",
    "dem_path = 'data/raster/ned/ned.tif'\n",
    "slope_path = 'data/raster/terrain/slope.tif'\n",
    "hli_path = 'data/raster/terrain/hli.tif'\n",
    "tpi_path = 'data/raster/terrain/tpi_{NGBVAL}.tif'\n",
    "\n",
    "#sample weight layer\n",
    "sample_weight_path = 'data/raster/wt_layers/distexp_{EXPVAL}.tif'\n",
    "\n",
    "#train sample locations\n",
    "train_points_path = 'data/vector/train_points.geojson'\n",
    "\n",
    "#inverse distance to bird grid points\n",
    "inv_dist_path = 'data/raster/wt_layers/distexp_1.tif'\n"
   ]
  }
 ],
 "metadata": {
  "kernelspec": {
   "display_name": "calibrate-rap",
   "language": "python",
   "name": "python3"
  },
  "language_info": {
   "codemirror_mode": {
    "name": "ipython",
    "version": 3
   },
   "file_extension": ".py",
   "mimetype": "text/x-python",
   "name": "python",
   "nbconvert_exporter": "python",
   "pygments_lexer": "ipython3",
   "version": "3.10.16"
  }
 },
 "nbformat": 4,
 "nbformat_minor": 2
}

{
 "cells": [
  {
   "cell_type": "code",
   "execution_count": 11,
   "metadata": {},
   "outputs": [],
   "source": [
    "import numpy as np\n",
    "import rasterio\n",
    "from scipy import ndimage\n",
    "import os"
   ]
  },
  {
   "cell_type": "code",
   "execution_count": 96,
   "metadata": {},
   "outputs": [],
   "source": [
    "import time\n",
    "import numpy as np\n",
    "import rasterio\n",
    "from scipy.ndimage import convolve, median_filter\n",
    "\n",
    "def pit_fill_chm(chm_path, threshold_percent=5.0, output_path=None):\n",
    "    \"\"\"\n",
    "    Applies pit filling to a CHM (canopy height model) stored in a TIFF file. Methods described in:\n",
    "    \n",
    "    Ben-Arie, J. R., Hay, G. J., Powers, R. P., Castilla, G., & St-Onge, B. (2009). \n",
    "    Development of a pit filling algorithm for LiDAR canopy height models. Computers & Geosciences, 35(9), \n",
    "    1940–1949. https://doi.org/10.1016/j.cageo.2009.02.003\n",
    "\n",
    "    Parameters:\n",
    "        chm_path (str): Path to the input CHM GeoTIFF.\n",
    "        threshold_percent (float): The percentile (0-100) used to select the pit threshold\n",
    "                                   from the cumulative histogram of the Laplacian image.\n",
    "                                   (Default: 5.0, i.e., 5%)\n",
    "        output_path (str): If provided, the pit-filled CHM will be saved to this file.\n",
    "\n",
    "    Returns:\n",
    "        chm_filled (np.ndarray): The pit-filled CHM as a numpy array.\n",
    "    \"\"\"\n",
    "    # Start timing the processing\n",
    "    start_time = time.time()\n",
    "\n",
    "    # Read the CHM using rasterio\n",
    "    with rasterio.open(chm_path) as src:\n",
    "        chm = src.read(1)  # assuming a single band CHM\n",
    "        profile = src.profile\n",
    "\n",
    "    # ---------------------------\n",
    "    # Step 1: Compute Laplacian\n",
    "    # ---------------------------\n",
    "    # Define the Laplacian kernel\n",
    "    kernel = np.array([[-1, -1, -1],\n",
    "                       [-1,  8, -1],\n",
    "                       [-1, -1, -1]])\n",
    "    # Compute the Laplacian using convolution (more appropriate than median_filter)\n",
    "    lap = convolve(chm, kernel, mode='reflect')\n",
    "\n",
    "    lap_min = lap.min()\n",
    "    lap_max = lap.max()\n",
    "\n",
    "    # ---------------------------\n",
    "    # Step 2: Threshold selection\n",
    "    # ---------------------------\n",
    "    # Compute the threshold value such that 'threshold_percent' of the pixels have a \n",
    "    # Laplacian value below this threshold.\n",
    "    lap_threshold = np.percentile(lap, threshold_percent)\n",
    "\n",
    "    # ---------------------------\n",
    "    # Step 3: Generate pit mask\n",
    "    # ---------------------------\n",
    "    # Identify pits as pixels where the Laplacian is below the threshold.\n",
    "    pit_mask = lap < lap_threshold\n",
    "    num_pits = np.sum(pit_mask)\n",
    "\n",
    "    # ---------------------------\n",
    "    # Step 4: Apply median filter to smooth the CHM\n",
    "    # ---------------------------\n",
    "    # A median filter is useful for reducing local noise.\n",
    "    chm_median = median_filter(chm, size=3)\n",
    "\n",
    "    # ---------------------------\n",
    "    # Step 5: Pit filling\n",
    "    # ---------------------------\n",
    "    # For pixels identified as pits, replace the original CHM value with the median-filtered value.\n",
    "    chm_filled = chm.copy()\n",
    "    chm_filled[pit_mask] = chm_median[pit_mask]\n",
    "\n",
    "    # Count negative values before correction\n",
    "    num_negative_before = np.sum(chm_filled < 0)\n",
    "\n",
    "    # ---------------------------\n",
    "    # Step 6: Correct negative values\n",
    "    # ---------------------------\n",
    "    chm_filled[chm_filled < 0] = 0\n",
    "\n",
    "    processing_time = time.time() - start_time\n",
    "\n",
    "    # ---------------------------\n",
    "    # Reporting\n",
    "    # ---------------------------\n",
    "    print(\"Minimum Laplacian value: {}\".format(lap_min))\n",
    "    print(\"Maximum Laplacian value: {}\".format(lap_max))\n",
    "    print(\"Laplacian threshold value (at {}%): {}\".format(threshold_percent, lap_threshold))\n",
    "    print(\"Number of data pits identified: {}\".format(num_pits))\n",
    "    print(\"Number of negative values before correction: {}\".format(num_negative_before))\n",
    "    print(\"Processing time: {:.2f} seconds\".format(processing_time))\n",
    "\n",
    "    # Save the pit-filled CHM if an output path is provided.\n",
    "    if output_path:\n",
    "        with rasterio.open(output_path, 'w', **profile) as dst:\n",
    "            dst.write(chm_filled, 1)\n",
    "        print(\"Pit-filled CHM saved to:\", output_path)\n",
    "    else:\n",
    "        print(\"No output file specified; pit-filled CHM not saved to disk.\")\n",
    "\n",
    "    return chm_filled"
   ]
  },
  {
   "cell_type": "code",
   "execution_count": 94,
   "metadata": {},
   "outputs": [],
   "source": [
    "input = '/Users/kdoherty/calibrate_rap/data/raster/lidar_processed/chms/2016.tif'\n",
    "output = f'/Users/kdoherty/calibrate_rap/data/raster/lidar_processed/chms/2016_filled.tif'\n"
   ]
  },
  {
   "cell_type": "code",
   "execution_count": 95,
   "metadata": {},
   "outputs": [
    {
     "name": "stdout",
     "output_type": "stream",
     "text": [
      "Minimum Laplacian value: -inf\n",
      "Maximum Laplacian value: inf\n",
      "Laplacian threshold value (at 5%): -14.16998291015625\n",
      "Number of data pits identified: 1810246\n",
      "Number of negative values before correction: 13196583\n",
      "Processing time: 1.85 seconds\n",
      "Pit-filled CHM saved to: /Users/kdoherty/calibrate_rap/data/raster/lidar_processed/chms/2016_filled.tif\n"
     ]
    },
    {
     "data": {
      "text/plain": [
       "array([[0., 0., 0., ..., 0., 0., 0.],\n",
       "       [0., 0., 0., ..., 0., 0., 0.],\n",
       "       [0., 0., 0., ..., 0., 0., 0.],\n",
       "       ...,\n",
       "       [0., 0., 0., ..., 0., 0., 0.],\n",
       "       [0., 0., 0., ..., 0., 0., 0.],\n",
       "       [0., 0., 0., ..., 0., 0., 0.]], dtype=float32)"
      ]
     },
     "execution_count": 95,
     "metadata": {},
     "output_type": "execute_result"
    }
   ],
   "source": [
    "pit_fill_chm(input, 5, output)"
   ]
  },
  {
   "cell_type": "code",
   "execution_count": 97,
   "metadata": {},
   "outputs": [],
   "source": [
    "#replace 2016.tif with 2016_filled.tif\n",
    "import os\n",
    "\n",
    "# Get the directory path\n",
    "dir_path = '/Users/kdoherty/calibrate_rap/data/raster/lidar_processed/chms'\n",
    "\n",
    "# Delete the original file\n",
    "os.remove(os.path.join(dir_path, '2016.tif'))\n",
    "\n",
    "# Rename the filled file to the original name\n",
    "os.rename(os.path.join(dir_path, '2016_filled.tif'), \n",
    "         os.path.join(dir_path, '2016.tif'))\n"
   ]
  },
  {
   "cell_type": "code",
   "execution_count": null,
   "metadata": {},
   "outputs": [],
   "source": []
  }
 ],
 "metadata": {
  "kernelspec": {
   "display_name": "calibrate-rap",
   "language": "python",
   "name": "python3"
  },
  "language_info": {
   "codemirror_mode": {
    "name": "ipython",
    "version": 3
   },
   "file_extension": ".py",
   "mimetype": "text/x-python",
   "name": "python",
   "nbconvert_exporter": "python",
   "pygments_lexer": "ipython3",
   "version": "3.10.16"
  }
 },
 "nbformat": 4,
 "nbformat_minor": 2
}
